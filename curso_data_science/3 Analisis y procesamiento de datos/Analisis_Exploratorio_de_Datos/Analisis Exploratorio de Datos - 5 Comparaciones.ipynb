{
 "cells": [
  {
   "cell_type": "code",
   "execution_count": 23,
   "metadata": {},
   "outputs": [
    {
     "name": "stdout",
     "output_type": "stream",
     "text": [
      "The watermark extension is already loaded. To reload it, use:\n",
      "  %reload_ext watermark\n",
      "2017-08-18T15:05:19+02:00\n",
      "\n",
      "CPython 3.6.1\n",
      "IPython 5.3.0\n",
      "\n",
      "compiler   : GCC 4.8.2 20140120 (Red Hat 4.8.2-15)\n",
      "system     : Linux\n",
      "release    : 4.10.0-32-generic\n",
      "machine    : x86_64\n",
      "processor  : x86_64\n",
      "CPU cores  : 8\n",
      "interpreter: 64bit\n"
     ]
    }
   ],
   "source": [
    "%load_ext watermark\n",
    "%watermark"
   ]
  },
  {
   "cell_type": "code",
   "execution_count": 24,
   "metadata": {
    "collapsed": true
   },
   "outputs": [],
   "source": [
    "import pandas as pd\n",
    "import numpy as np\n",
    "import matplotlib.pyplot as plt\n",
    "import seaborn as sns"
   ]
  },
  {
   "cell_type": "markdown",
   "metadata": {},
   "source": [
    "La magia de matplotlib `matplotlib notebook`, es muy util para hacer plots mas visibles, pero es un poco complicada de usar ya que requiere el cerrar cada plot para poder continuar.\n",
    "\n",
    "Alternativamente, se puede usar la magia `%matplotlib inline`, que es más sencilla ya que simplemente muestra el gráfico original en el jupyter notebook. Para modificar el tamaño de los plots en este caso basta con cambiar el parámetro general de matplotlib `figure.figsize` al tamaño de gráfico deseado  (en pulgadas)"
   ]
  },
  {
   "cell_type": "code",
   "execution_count": 25,
   "metadata": {
    "collapsed": true
   },
   "outputs": [],
   "source": [
    "%matplotlib inline\n",
    "\n",
    "plt.rcParams['figure.figsize'] = (10,10) # 10 pulgadas de ancho y 10 de alto para todos los plots"
   ]
  },
  {
   "cell_type": "markdown",
   "metadata": {},
   "source": [
    "### Lectura de datos"
   ]
  },
  {
   "cell_type": "code",
   "execution_count": 27,
   "metadata": {
    "collapsed": true
   },
   "outputs": [],
   "source": [
    "vehiculos = pd.read_pickle(\"../data/vehiculos.3.variables_agrupadas.pkl\")"
   ]
  },
  {
   "cell_type": "code",
   "execution_count": 16,
   "metadata": {},
   "outputs": [
    {
     "data": {
      "text/plain": [
       "fabricante                object\n",
       "modelo                    object\n",
       "year                       int64\n",
       "desplazamiento           float64\n",
       "cilindros                float64\n",
       "transmision               object\n",
       "traccion                  object\n",
       "clase                     object\n",
       "combustible               object\n",
       "consumo                    int64\n",
       "co2                      float64\n",
       "clase_tipo              category\n",
       "traccion_tipo           category\n",
       "transmision_tipo        category\n",
       "combustible_tipo        category\n",
       "tamano_motor_tipo       category\n",
       "consumo_tipo            category\n",
       "co2_tipo                category\n",
       "consumo_litros_milla     float64\n",
       "dtype: object"
      ]
     },
     "execution_count": 16,
     "metadata": {},
     "output_type": "execute_result"
    }
   ],
   "source": [
    "vehiculos.dtypes"
   ]
  },
  {
   "cell_type": "markdown",
   "metadata": {},
   "source": [
    "Vemos que al leer de un dataframe pickled, pandas no tiene que averiguar de nuevo que tipo de dato es cada columna, lo carga todo en memoria directamente."
   ]
  },
  {
   "cell_type": "code",
   "execution_count": 17,
   "metadata": {},
   "outputs": [
    {
     "data": {
      "text/html": [
       "<div>\n",
       "<style>\n",
       "    .dataframe thead tr:only-child th {\n",
       "        text-align: right;\n",
       "    }\n",
       "\n",
       "    .dataframe thead th {\n",
       "        text-align: left;\n",
       "    }\n",
       "\n",
       "    .dataframe tbody tr th {\n",
       "        vertical-align: top;\n",
       "    }\n",
       "</style>\n",
       "<table border=\"1\" class=\"dataframe\">\n",
       "  <thead>\n",
       "    <tr style=\"text-align: right;\">\n",
       "      <th></th>\n",
       "      <th>fabricante</th>\n",
       "      <th>modelo</th>\n",
       "      <th>year</th>\n",
       "      <th>desplazamiento</th>\n",
       "      <th>cilindros</th>\n",
       "      <th>transmision</th>\n",
       "      <th>traccion</th>\n",
       "      <th>clase</th>\n",
       "      <th>combustible</th>\n",
       "      <th>consumo</th>\n",
       "      <th>co2</th>\n",
       "      <th>clase_tipo</th>\n",
       "      <th>traccion_tipo</th>\n",
       "      <th>transmision_tipo</th>\n",
       "      <th>combustible_tipo</th>\n",
       "      <th>tamano_motor_tipo</th>\n",
       "      <th>consumo_tipo</th>\n",
       "      <th>co2_tipo</th>\n",
       "      <th>consumo_litros_milla</th>\n",
       "    </tr>\n",
       "  </thead>\n",
       "  <tbody>\n",
       "    <tr>\n",
       "      <th>0</th>\n",
       "      <td>AM General</td>\n",
       "      <td>DJ Po Vehicle 2WD</td>\n",
       "      <td>1984</td>\n",
       "      <td>2.5</td>\n",
       "      <td>4.0</td>\n",
       "      <td>Automatic 3-spd</td>\n",
       "      <td>2-Wheel Drive</td>\n",
       "      <td>Special Purpose Vehicle 2WD</td>\n",
       "      <td>Regular</td>\n",
       "      <td>17</td>\n",
       "      <td>522.764706</td>\n",
       "      <td>Vehículos Especiales</td>\n",
       "      <td>dos</td>\n",
       "      <td>Automatica</td>\n",
       "      <td>Normal</td>\n",
       "      <td>pequeño</td>\n",
       "      <td>alto</td>\n",
       "      <td>alto</td>\n",
       "      <td>0.222671</td>\n",
       "    </tr>\n",
       "    <tr>\n",
       "      <th>1</th>\n",
       "      <td>AM General</td>\n",
       "      <td>FJ8c Post Office</td>\n",
       "      <td>1984</td>\n",
       "      <td>4.2</td>\n",
       "      <td>6.0</td>\n",
       "      <td>Automatic 3-spd</td>\n",
       "      <td>2-Wheel Drive</td>\n",
       "      <td>Special Purpose Vehicle 2WD</td>\n",
       "      <td>Regular</td>\n",
       "      <td>13</td>\n",
       "      <td>683.615385</td>\n",
       "      <td>Vehículos Especiales</td>\n",
       "      <td>dos</td>\n",
       "      <td>Automatica</td>\n",
       "      <td>Normal</td>\n",
       "      <td>grande</td>\n",
       "      <td>muy alto</td>\n",
       "      <td>muy alto</td>\n",
       "      <td>0.291185</td>\n",
       "    </tr>\n",
       "    <tr>\n",
       "      <th>2</th>\n",
       "      <td>AM General</td>\n",
       "      <td>Post Office DJ5 2WD</td>\n",
       "      <td>1985</td>\n",
       "      <td>2.5</td>\n",
       "      <td>4.0</td>\n",
       "      <td>Automatic 3-spd</td>\n",
       "      <td>Rear-Wheel Drive</td>\n",
       "      <td>Special Purpose Vehicle 2WD</td>\n",
       "      <td>Regular</td>\n",
       "      <td>16</td>\n",
       "      <td>555.437500</td>\n",
       "      <td>Vehículos Especiales</td>\n",
       "      <td>dos</td>\n",
       "      <td>Automatica</td>\n",
       "      <td>Normal</td>\n",
       "      <td>pequeño</td>\n",
       "      <td>alto</td>\n",
       "      <td>alto</td>\n",
       "      <td>0.236588</td>\n",
       "    </tr>\n",
       "    <tr>\n",
       "      <th>3</th>\n",
       "      <td>AM General</td>\n",
       "      <td>Post Office DJ8 2WD</td>\n",
       "      <td>1985</td>\n",
       "      <td>4.2</td>\n",
       "      <td>6.0</td>\n",
       "      <td>Automatic 3-spd</td>\n",
       "      <td>Rear-Wheel Drive</td>\n",
       "      <td>Special Purpose Vehicle 2WD</td>\n",
       "      <td>Regular</td>\n",
       "      <td>13</td>\n",
       "      <td>683.615385</td>\n",
       "      <td>Vehículos Especiales</td>\n",
       "      <td>dos</td>\n",
       "      <td>Automatica</td>\n",
       "      <td>Normal</td>\n",
       "      <td>grande</td>\n",
       "      <td>muy alto</td>\n",
       "      <td>muy alto</td>\n",
       "      <td>0.291185</td>\n",
       "    </tr>\n",
       "    <tr>\n",
       "      <th>4</th>\n",
       "      <td>ASC Incorporated</td>\n",
       "      <td>GNX</td>\n",
       "      <td>1987</td>\n",
       "      <td>3.8</td>\n",
       "      <td>6.0</td>\n",
       "      <td>Automatic 4-spd</td>\n",
       "      <td>Rear-Wheel Drive</td>\n",
       "      <td>Midsize Cars</td>\n",
       "      <td>Premium</td>\n",
       "      <td>16</td>\n",
       "      <td>555.437500</td>\n",
       "      <td>Coches Medianos</td>\n",
       "      <td>dos</td>\n",
       "      <td>Automatica</td>\n",
       "      <td>Premium</td>\n",
       "      <td>grande</td>\n",
       "      <td>alto</td>\n",
       "      <td>alto</td>\n",
       "      <td>0.236588</td>\n",
       "    </tr>\n",
       "  </tbody>\n",
       "</table>\n",
       "</div>"
      ],
      "text/plain": [
       "         fabricante               modelo  year  desplazamiento  cilindros  \\\n",
       "0        AM General    DJ Po Vehicle 2WD  1984             2.5        4.0   \n",
       "1        AM General     FJ8c Post Office  1984             4.2        6.0   \n",
       "2        AM General  Post Office DJ5 2WD  1985             2.5        4.0   \n",
       "3        AM General  Post Office DJ8 2WD  1985             4.2        6.0   \n",
       "4  ASC Incorporated                  GNX  1987             3.8        6.0   \n",
       "\n",
       "       transmision          traccion                        clase combustible  \\\n",
       "0  Automatic 3-spd     2-Wheel Drive  Special Purpose Vehicle 2WD     Regular   \n",
       "1  Automatic 3-spd     2-Wheel Drive  Special Purpose Vehicle 2WD     Regular   \n",
       "2  Automatic 3-spd  Rear-Wheel Drive  Special Purpose Vehicle 2WD     Regular   \n",
       "3  Automatic 3-spd  Rear-Wheel Drive  Special Purpose Vehicle 2WD     Regular   \n",
       "4  Automatic 4-spd  Rear-Wheel Drive                 Midsize Cars     Premium   \n",
       "\n",
       "   consumo         co2            clase_tipo traccion_tipo transmision_tipo  \\\n",
       "0       17  522.764706  Vehículos Especiales           dos       Automatica   \n",
       "1       13  683.615385  Vehículos Especiales           dos       Automatica   \n",
       "2       16  555.437500  Vehículos Especiales           dos       Automatica   \n",
       "3       13  683.615385  Vehículos Especiales           dos       Automatica   \n",
       "4       16  555.437500       Coches Medianos           dos       Automatica   \n",
       "\n",
       "  combustible_tipo tamano_motor_tipo consumo_tipo  co2_tipo  \\\n",
       "0           Normal           pequeño         alto      alto   \n",
       "1           Normal            grande     muy alto  muy alto   \n",
       "2           Normal           pequeño         alto      alto   \n",
       "3           Normal            grande     muy alto  muy alto   \n",
       "4          Premium            grande         alto      alto   \n",
       "\n",
       "   consumo_litros_milla  \n",
       "0              0.222671  \n",
       "1              0.291185  \n",
       "2              0.236588  \n",
       "3              0.291185  \n",
       "4              0.236588  "
      ]
     },
     "execution_count": 17,
     "metadata": {},
     "output_type": "execute_result"
    }
   ],
   "source": [
    "vehiculos.head()"
   ]
  },
  {
   "cell_type": "code",
   "execution_count": 28,
   "metadata": {
    "collapsed": true
   },
   "outputs": [],
   "source": [
    "from ipywidgets import interact, fixed"
   ]
  },
  {
   "cell_type": "markdown",
   "metadata": {},
   "source": [
    "### Recuento por multiples grupos"
   ]
  },
  {
   "cell_type": "code",
   "execution_count": 29,
   "metadata": {
    "collapsed": true
   },
   "outputs": [],
   "source": [
    "def pivot_recuento(df, rows, columns, calc_field):\n",
    "    df_pivot = df.pivot_table(values=calc_field, \n",
    "                              index=rows, \n",
    "                              columns=columns, \n",
    "                              aggfunc=np.size\n",
    "                             ).dropna(axis=0, how='all')\n",
    "    return df_pivot"
   ]
  },
  {
   "cell_type": "code",
   "execution_count": 30,
   "metadata": {},
   "outputs": [
    {
     "data": {
      "text/html": [
       "<div>\n",
       "<style>\n",
       "    .dataframe thead tr:only-child th {\n",
       "        text-align: right;\n",
       "    }\n",
       "\n",
       "    .dataframe thead th {\n",
       "        text-align: left;\n",
       "    }\n",
       "\n",
       "    .dataframe tbody tr th {\n",
       "        vertical-align: top;\n",
       "    }\n",
       "</style>\n",
       "<table border=\"1\" class=\"dataframe\">\n",
       "  <thead>\n",
       "    <tr style=\"text-align: right;\">\n",
       "      <th>consumo_tipo</th>\n",
       "      <th>muy bajo</th>\n",
       "      <th>bajo</th>\n",
       "      <th>moderado</th>\n",
       "      <th>alto</th>\n",
       "      <th>muy alto</th>\n",
       "    </tr>\n",
       "    <tr>\n",
       "      <th>combustible_tipo</th>\n",
       "      <th></th>\n",
       "      <th></th>\n",
       "      <th></th>\n",
       "      <th></th>\n",
       "      <th></th>\n",
       "    </tr>\n",
       "  </thead>\n",
       "  <tbody>\n",
       "    <tr>\n",
       "      <th>Hibrido</th>\n",
       "      <td>61.0</td>\n",
       "      <td>6.0</td>\n",
       "      <td>1.0</td>\n",
       "      <td>2.0</td>\n",
       "      <td>NaN</td>\n",
       "    </tr>\n",
       "    <tr>\n",
       "      <th>Normal</th>\n",
       "      <td>5686.0</td>\n",
       "      <td>4931.0</td>\n",
       "      <td>5736.0</td>\n",
       "      <td>3158.0</td>\n",
       "      <td>4567.0</td>\n",
       "    </tr>\n",
       "    <tr>\n",
       "      <th>Otros tipos de combustible</th>\n",
       "      <td>521.0</td>\n",
       "      <td>340.0</td>\n",
       "      <td>508.0</td>\n",
       "      <td>482.0</td>\n",
       "      <td>586.0</td>\n",
       "    </tr>\n",
       "    <tr>\n",
       "      <th>Premium</th>\n",
       "      <td>1386.0</td>\n",
       "      <td>2211.0</td>\n",
       "      <td>3836.0</td>\n",
       "      <td>1146.0</td>\n",
       "      <td>1627.0</td>\n",
       "    </tr>\n",
       "  </tbody>\n",
       "</table>\n",
       "</div>"
      ],
      "text/plain": [
       "consumo_tipo                muy bajo    bajo  moderado    alto  muy alto\n",
       "combustible_tipo                                                        \n",
       "Hibrido                         61.0     6.0       1.0     2.0       NaN\n",
       "Normal                        5686.0  4931.0    5736.0  3158.0    4567.0\n",
       "Otros tipos de combustible     521.0   340.0     508.0   482.0     586.0\n",
       "Premium                       1386.0  2211.0    3836.0  1146.0    1627.0"
      ]
     },
     "execution_count": 30,
     "metadata": {},
     "output_type": "execute_result"
    }
   ],
   "source": [
    "consumo_combustible = pivot_recuento(vehiculos,\"combustible_tipo\",\"consumo_tipo\", \"year\")\n",
    "consumo_combustible"
   ]
  },
  {
   "cell_type": "code",
   "execution_count": 31,
   "metadata": {
    "collapsed": true
   },
   "outputs": [],
   "source": [
    "def heatmap_recuento_tipos(df, col1, col2):\n",
    "    pivot_table = pivot_recuento(df,col1, col2, \"year\")\n",
    "    sns.heatmap(pivot_table, annot=True, fmt='g')\n",
    "    sns.plt.ylabel(col1)\n",
    "    sns.plt.xlabel(col2)\n",
    "    plt.show()"
   ]
  },
  {
   "cell_type": "code",
   "execution_count": 32,
   "metadata": {},
   "outputs": [
    {
     "data": {
      "application/vnd.jupyter.widget-view+json": {
       "model_id": "cb61caec8ebb4146b9bb90dc90075c55"
      }
     },
     "metadata": {},
     "output_type": "display_data"
    }
   ],
   "source": [
    "interact(heatmap_recuento_tipos, col1=vehiculos.columns, col2=vehiculos.columns, df=fixed(vehiculos));"
   ]
  },
  {
   "cell_type": "markdown",
   "metadata": {},
   "source": [
    "### Conclusiones\n",
    "\n",
    "- Hay mas vehiculos de dos ruedas de bajo consumo que de traccion a las 4 ruedas\n",
    "- Los fabricantes se concentran mas en vehiculos de motor pequeño/bajo consumo y motor muy grande/alto consumo\n",
    "- La mayor parte de coches tienen transmision automatica, con los coches pequeños teniendo valores similares de coches automaticos y manuales\n",
    "- Hay una cantidad de camionetas que son mas contaminantes que cualquier otro tipo de coche"
   ]
  },
  {
   "cell_type": "markdown",
   "metadata": {},
   "source": [
    "### Medias por variables categóricas"
   ]
  },
  {
   "cell_type": "code",
   "execution_count": 33,
   "metadata": {
    "collapsed": true
   },
   "outputs": [],
   "source": [
    "def medias_por_categoria(col_grupo, col_calculo):\n",
    "    vehiculos.groupby(col_grupo)[col_calculo].mean().plot.barh()\n",
    "    plt.ylabel(col_grupo)\n",
    "    plt.xlabel('Valores medios de {}'.format(col_calculo))\n",
    "    plt.show()"
   ]
  },
  {
   "cell_type": "code",
   "execution_count": 34,
   "metadata": {
    "collapsed": true
   },
   "outputs": [],
   "source": [
    "columnas_numericas = vehiculos.select_dtypes(['int', 'float']).columns\n",
    "columnas_categoricas = vehiculos.select_dtypes(['object', 'category']).columns\n",
    "columnas_tipo = [col for col in vehiculos.columns if col.endswith(\"_tipo\")]"
   ]
  },
  {
   "cell_type": "code",
   "execution_count": 35,
   "metadata": {},
   "outputs": [
    {
     "data": {
      "application/vnd.jupyter.widget-view+json": {
       "model_id": "b6b1a9deada046b0b1265f8244afa3e9"
      }
     },
     "metadata": {},
     "output_type": "display_data"
    }
   ],
   "source": [
    "interact(medias_por_categoria, col_grupo=columnas_categoricas, col_calculo=columnas_numericas);"
   ]
  },
  {
   "cell_type": "markdown",
   "metadata": {},
   "source": [
    "#### Conclusiones\n",
    "\n",
    "- Vehiculos con transmision automatica tienen valores de co2 y consumo ligeramente más altos\n",
    "\n",
    "- Furgonetas y camionetas tienen el consumo más alto (alrededor de 0.25 litros/milla). Por otra parte, los coches familiares y pequeños tienen el menor consumo de gasolina (~0.15 litros/milla)\n",
    "\n",
    "- Los vehículos híbridos emiten menos de la mitad de CO2 que el resto de vehiculos (que tienen similares emisiones)"
   ]
  },
  {
   "cell_type": "markdown",
   "metadata": {},
   "source": [
    "### Medias por multiples tipos"
   ]
  },
  {
   "cell_type": "code",
   "execution_count": 36,
   "metadata": {
    "collapsed": true
   },
   "outputs": [],
   "source": [
    "def pivot_media(rows, columns, calc_field):\n",
    "    df_pivot = vehiculos.pivot_table(values=calc_field, \n",
    "                              index=rows, \n",
    "                              columns=columns, \n",
    "                              aggfunc=np.mean\n",
    "                             ).dropna(axis=0, how='all')\n",
    "    return df_pivot"
   ]
  },
  {
   "cell_type": "code",
   "execution_count": 38,
   "metadata": {},
   "outputs": [
    {
     "data": {
      "text/html": [
       "<div>\n",
       "<style>\n",
       "    .dataframe thead tr:only-child th {\n",
       "        text-align: right;\n",
       "    }\n",
       "\n",
       "    .dataframe thead th {\n",
       "        text-align: left;\n",
       "    }\n",
       "\n",
       "    .dataframe tbody tr th {\n",
       "        vertical-align: top;\n",
       "    }\n",
       "</style>\n",
       "<table border=\"1\" class=\"dataframe\">\n",
       "  <thead>\n",
       "    <tr style=\"text-align: right;\">\n",
       "      <th>clase_tipo</th>\n",
       "      <th>Camionetas</th>\n",
       "      <th>Coche Familiar</th>\n",
       "      <th>Coches Grandes</th>\n",
       "      <th>Coches Medianos</th>\n",
       "      <th>Coches pequeños</th>\n",
       "      <th>Deportivos</th>\n",
       "      <th>Furgoneta</th>\n",
       "      <th>Vehículos Especiales</th>\n",
       "    </tr>\n",
       "    <tr>\n",
       "      <th>combustible_tipo</th>\n",
       "      <th></th>\n",
       "      <th></th>\n",
       "      <th></th>\n",
       "      <th></th>\n",
       "      <th></th>\n",
       "      <th></th>\n",
       "      <th></th>\n",
       "      <th></th>\n",
       "    </tr>\n",
       "  </thead>\n",
       "  <tbody>\n",
       "    <tr>\n",
       "      <th>Hibrido</th>\n",
       "      <td>NaN</td>\n",
       "      <td>NaN</td>\n",
       "      <td>221.875000</td>\n",
       "      <td>127.380952</td>\n",
       "      <td>149.645161</td>\n",
       "      <td>260.222222</td>\n",
       "      <td>106.000000</td>\n",
       "      <td>NaN</td>\n",
       "    </tr>\n",
       "    <tr>\n",
       "      <th>Normal</th>\n",
       "      <td>560.216673</td>\n",
       "      <td>399.493604</td>\n",
       "      <td>461.726146</td>\n",
       "      <td>409.673286</td>\n",
       "      <td>384.393158</td>\n",
       "      <td>476.788251</td>\n",
       "      <td>590.807827</td>\n",
       "      <td>543.838453</td>\n",
       "    </tr>\n",
       "    <tr>\n",
       "      <th>Otros tipos de combustible</th>\n",
       "      <td>552.958788</td>\n",
       "      <td>391.161924</td>\n",
       "      <td>447.490631</td>\n",
       "      <td>412.662543</td>\n",
       "      <td>348.957271</td>\n",
       "      <td>520.672914</td>\n",
       "      <td>602.867693</td>\n",
       "      <td>559.031182</td>\n",
       "    </tr>\n",
       "    <tr>\n",
       "      <th>Premium</th>\n",
       "      <td>644.975464</td>\n",
       "      <td>439.247746</td>\n",
       "      <td>520.511823</td>\n",
       "      <td>479.033374</td>\n",
       "      <td>467.943014</td>\n",
       "      <td>515.605886</td>\n",
       "      <td>547.793508</td>\n",
       "      <td>599.268790</td>\n",
       "    </tr>\n",
       "  </tbody>\n",
       "</table>\n",
       "</div>"
      ],
      "text/plain": [
       "clase_tipo                  Camionetas  Coche Familiar  Coches Grandes  \\\n",
       "combustible_tipo                                                         \n",
       "Hibrido                            NaN             NaN      221.875000   \n",
       "Normal                      560.216673      399.493604      461.726146   \n",
       "Otros tipos de combustible  552.958788      391.161924      447.490631   \n",
       "Premium                     644.975464      439.247746      520.511823   \n",
       "\n",
       "clase_tipo                  Coches Medianos  Coches pequeños  Deportivos  \\\n",
       "combustible_tipo                                                           \n",
       "Hibrido                          127.380952       149.645161  260.222222   \n",
       "Normal                           409.673286       384.393158  476.788251   \n",
       "Otros tipos de combustible       412.662543       348.957271  520.672914   \n",
       "Premium                          479.033374       467.943014  515.605886   \n",
       "\n",
       "clase_tipo                   Furgoneta  Vehículos Especiales  \n",
       "combustible_tipo                                              \n",
       "Hibrido                     106.000000                   NaN  \n",
       "Normal                      590.807827            543.838453  \n",
       "Otros tipos de combustible  602.867693            559.031182  \n",
       "Premium                     547.793508            599.268790  "
      ]
     },
     "execution_count": 38,
     "metadata": {},
     "output_type": "execute_result"
    }
   ],
   "source": [
    "pivot_media(\"combustible_tipo\",\"clase_tipo\", \"co2\")"
   ]
  },
  {
   "cell_type": "code",
   "execution_count": 39,
   "metadata": {
    "collapsed": true
   },
   "outputs": [],
   "source": [
    "def heatmap_medias_tipos(col1, col2, col3):\n",
    "    pivot_table = pivot_media(col1, col2, col3)\n",
    "    sns.heatmap(pivot_table, annot=True, fmt='g')\n",
    "    sns.plt.ylabel(col1)\n",
    "    sns.plt.xlabel(col2)\n",
    "    plt.show()"
   ]
  },
  {
   "cell_type": "code",
   "execution_count": 40,
   "metadata": {},
   "outputs": [
    {
     "data": {
      "application/vnd.jupyter.widget-view+json": {
       "model_id": "c3b60f2e5f9042aa96a464fe0fc92a71"
      }
     },
     "metadata": {},
     "output_type": "display_data"
    }
   ],
   "source": [
    "interact(heatmap_medias_tipos, col1=vehiculos.columns, col2=vehiculos.columns, col3=columnas_numericas);"
   ]
  },
  {
   "cell_type": "markdown",
   "metadata": {},
   "source": [
    "#### Conclusiones\n",
    "\n",
    "- Camionentas de gasolina Premium consumen un 38% más que vehiculos pequeños que usan el mismo tipo de gasolina"
   ]
  },
  {
   "cell_type": "markdown",
   "metadata": {},
   "source": [
    "### Comparacion de tendencias (temporales)"
   ]
  },
  {
   "cell_type": "markdown",
   "metadata": {
    "collapsed": true
   },
   "source": [
    "En este dataset en particular, tenemos una variable temporal `year`. A la cual echamos un vistazo en un apartado anterior pero que conviene observar de nuevo. Podemos considerarla una variable ordinal (ya que no es una variable continua). \n",
    "\n",
    "Para la cual tiene sentido ver la evolución. Para ello graficos de linea son lo ideal."
   ]
  },
  {
   "cell_type": "code",
   "execution_count": 41,
   "metadata": {
    "collapsed": true
   },
   "outputs": [],
   "source": [
    "vehiculos_pre_2017 = vehiculos.query(\"year<2017\")"
   ]
  },
  {
   "cell_type": "code",
   "execution_count": 42,
   "metadata": {},
   "outputs": [
    {
     "data": {
      "text/plain": [
       "<matplotlib.axes._subplots.AxesSubplot at 0x7f2cec6fab70>"
      ]
     },
     "execution_count": 42,
     "metadata": {},
     "output_type": "execute_result"
    },
    {
     "data": {
      "image/png": "[encoded data removed]",
      "text/plain": [
       "<matplotlib.figure.Figure at 0x7f2d14307b70>"
      ]
     },
     "metadata": {},
     "output_type": "display_data"
    }
   ],
   "source": [
    "vehiculos_pre_2017.groupby('year')['co2'].mean().plot()"
   ]
  },
  {
   "cell_type": "markdown",
   "metadata": {},
   "source": [
    "Vemos que en general la emisión de co2 se ha reducido bastante con el tiempo"
   ]
  },
  {
   "cell_type": "code",
   "execution_count": 43,
   "metadata": {
    "collapsed": true
   },
   "outputs": [],
   "source": [
    "def evolución_medias(col_calculo):\n",
    "    vehiculos_pre_2017.groupby('year')[col_calculo].mean().plot()\n",
    "    plt.show()"
   ]
  },
  {
   "cell_type": "code",
   "execution_count": 44,
   "metadata": {},
   "outputs": [
    {
     "data": {
      "application/vnd.jupyter.widget-view+json": {
       "model_id": "483b82cbac1c4fba8bed1d64c37117ea"
      }
     },
     "metadata": {},
     "output_type": "display_data"
    }
   ],
   "source": [
    "interact(evolución_medias, col_calculo=columnas_numericas);"
   ]
  },
  {
   "cell_type": "markdown",
   "metadata": {},
   "source": [
    "Vemos que históricamente se ha ido aumentando la cilindrada (y desplazamiento). en los vehiculos fabricados, pero a partir de 2010 esta tendencia se invierte. Vemos que ambas variables estan linealmente relacionadas.\n",
    "\n",
    "Tambien vemos que el consumo y emision de co2 ha ido bajando a lo largo de los años, y dicha tendencia se acentuó a partir de 2006 (¿Cambio climatico?, la emisión de [Una Verdad Incomoda](http://www.imdb.com/title/tt0497116/)?)"
   ]
  },
  {
   "cell_type": "code",
   "execution_count": 86,
   "metadata": {},
   "outputs": [
    {
     "data": {
      "text/plain": [
       "<matplotlib.axes._subplots.AxesSubplot at 0x7ff364dd0ba8>"
      ]
     },
     "execution_count": 86,
     "metadata": {},
     "output_type": "execute_result"
    },
    {
     "data": {
      "image/png": "[encoded data removed]",
      "text/plain": [
       "<matplotlib.figure.Figure at 0x7ff33d4b6080>"
      ]
     },
     "metadata": {},
     "output_type": "display_data"
    }
   ],
   "source": [
    "vehiculos.plot.scatter(x=\"cilindros\",y=\"desplazamiento\")"
   ]
  },
  {
   "cell_type": "code",
   "execution_count": 45,
   "metadata": {
    "collapsed": true
   },
   "outputs": [],
   "source": [
    "def evolución_recuento(col_calculo):\n",
    "    for categoria in vehiculos_pre_2017[col_calculo].unique():\n",
    "        n_vehiculos_categoria_ano = vehiculos_pre_2017[vehiculos_pre_2017[col_calculo]==categoria].groupby(\n",
    "            'year').apply(np.size)\n",
    "        plt.plot(\n",
    "            n_vehiculos_categoria_ano.index,\n",
    "            n_vehiculos_categoria_ano,\n",
    "            label=categoria\n",
    "        )\n",
    "        plt.legend()"
   ]
  },
  {
   "cell_type": "code",
   "execution_count": 46,
   "metadata": {},
   "outputs": [
    {
     "data": {
      "image/png": "[encoded data removed]",
      "text/plain": [
       "<matplotlib.figure.Figure at 0x7f2d1424d3c8>"
      ]
     },
     "metadata": {},
     "output_type": "display_data"
    }
   ],
   "source": [
    "evolución_recuento(\"clase_tipo\")"
   ]
  },
  {
   "cell_type": "markdown",
   "metadata": {},
   "source": [
    "Una vez hemos terminado el análisis, el paso final es compilar toda la información obtenida en un documento. Dicho documento tiene dos objetivos principales:\n",
    "\n",
    "- Informar a aquellas personas interesadas de los descubrimientos encontrados. ¿Esto nos incluye a nosotros mismos en el futuro!\n",
    "- Facilitar la replicación del análisis por otros Data Scientists.\n",
    "\n",
    "\n",
    "# Conclusiones del análisis\n",
    "\n",
    "\n",
    "#### Descripción\n",
    "\n",
    "El dataset consiste en información relativa a vehículos vendidos en USA desde 1985. Dicha información incluye detalles técnicos (cilindrada, tipo de transmisión) y detalles medioambientales (consumo de gasolina, emisiones de CO2)\n",
    "\n",
    "El archivo original está en: https://www.fueleconomy.gov/feg/epadata/vehicles.csv.zip\n",
    "El archivo que vamos a usar es una versión modificada (con menos columnas)\n",
    "\n",
    "Descripcion del dataset Original\n",
    "http://www.fueleconomy.gov/feg/ws/index.shtml#ft7\n",
    "\n",
    "Las entidades de las que consta dicho dataset son:\n",
    "\n",
    "* fabricante\n",
    "* fabricante-modelo\n",
    "* fabricante-model-año\n",
    "* fabricante-año\n",
    "\n",
    "Las variables que existen en dicho dataset son:\n",
    "\n",
    "```\n",
    "fabricante         categorica\n",
    "modelo             categorica\n",
    "year               ordinal/numérica\n",
    "desplazamiento     numérica\n",
    "cilindros          numérica\n",
    "transmision        categorica\n",
    "traccion           categorica\n",
    "clase              categorica\n",
    "combustible        categorica\n",
    "consumo            numérica\n",
    "co2                numérica\n",
    "```\n",
    "\n",
    "#### QA\n",
    "\n",
    "- Las variables desplazamiento, cilindros, transmision y traccion tienen valores inexistentes\n",
    "- hay un outlier en las variables `co2` y `consumo`\n",
    "- Hay coches hibridos y coches electricos (hemos removido estos ultimos ya que no contaminan).\n",
    "- La variable `consumo` esta definida en millas por galon y la variable `co2` está definida como gramos por milla. Dado que el co2 es la variable principal del dataset, hemos creado la variable `consumo_litros_milla` definida como litros por milla para poder comparar con `co2`\n",
    "\n",
    "#### Distribución de variables\n",
    "\n",
    "- Ninguna variable numérica sigue una distribución normal\n",
    "\n",
    "- la variable numérica `cilindros` tiene una distribución de valores discretos no balanceada (cilindrada de 2 y 4 y 8 suman el 95% de los vehiculos). Podria agruparse como variable categórica (2, 4 , 8 y otro)\n",
    "\n",
    "- El fabricante con la mayor cantidad de modelos es Chevrolet (10% del total)\n",
    "\n",
    "- 65% de los vehiculos usan gasolina normal\n",
    "\n",
    "- La distribución de tamaños de motor y de consumo y co2 está equilibrada en todo el rango\n",
    "\n",
    "- 70% de los vehiculos usan traccion a las dos ruedas\n",
    "\n",
    "- dos tercios de los coches tienen transmision automática\n",
    "\n",
    "- La clase mayoritaria de vehiculos es la de coches pequeños (35% del total)\n",
    "\n",
    "- Existen relaciones lineales entre cilindros/desplazamiento y co2/consumo_litros_milla\n",
    "\n",
    "#### Comparaciones\n",
    "\n",
    "- Hay mas vehiculos de dos ruedas de bajo consumo que de traccion a las 4 ruedas\n",
    "- Los fabricantes se concentran mas en vehiculos de motor pequeño/bajo consumo y motor muy grande/alto consumo\n",
    "- La mayor parte de coches tienen transmision automatica, con los coches pequeños teniendo valores similares de coches automaticos y manuales\n",
    "- Hay una cantidad de camionetas que son mas contaminantes que cualquier otro tipo de coche\n",
    "- Vehiculos con transmision automatica tienen valores de co2 y consumo ligeramente más altos\n",
    "- Furgonetas y camionetas tienen el consumo más alto (alrededor de 0.25 litros/milla). Por otra parte, los coches familiares y pequeños tienen el menor consumo de gasolina (~0.15 litros/milla)\n",
    "- los valores de co2 son similares  independientemente del tipo de gasolina empleado\n",
    "- Camionentas de gasolina Premium consumen un 38% más que vehiculos pequeños que usan el mismo tipo de gasolina\n",
    "- El consumo y emisión de co2 han ido bajando de forma continuada desde 1985\n",
    "- Históricamente se ha ido aumentando la cilindrada en los vehiculos fabricados, pero a partir de 2010 esta tendencia se invierte"
   ]
  },
  {
   "cell_type": "code",
   "execution_count": null,
   "metadata": {
    "collapsed": true
   },
   "outputs": [],
   "source": []
  }
 ],
 "metadata": {
  "kernelspec": {
   "display_name": "Python 3",
   "language": "python",
   "name": "python3"
  },
  "language_info": {
   "codemirror_mode": {
    "name": "ipython",
    "version": 3
   },
   "file_extension": ".py",
   "mimetype": "text/x-python",
   "name": "python",
   "nbconvert_exporter": "python",
   "pygments_lexer": "ipython3",
   "version": "3.6.1"
  }
 },
 "nbformat": 4,
 "nbformat_minor": 2
}
