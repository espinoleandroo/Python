{
 "cells": [
  {
   "cell_type": "markdown",
   "metadata": {},
   "source": [
    "En esta sección vamos a hacer un ejemplo completo de como hacer un Análisis Exploratorio de Datos (EDA en inglés).\n",
    "\n",
    "Hoy en dia no hay un proceso standard a la hora de realizar EDA, pero un proceso que a mi me gusta está basado en el proceso propuesto por Distric Data Labs ([aquí](http://blog.districtdatalabs.com/data-exploration-with-python-1) un blog post, y [aquí](https://www.youtube.com/watch?v=YEBRkLo568Q) una charla sobre el proceso)."
   ]
  },
  {
   "cell_type": "code",
   "execution_count": 1,
   "metadata": {},
   "outputs": [
    {
     "name": "stdout",
     "output_type": "stream",
     "text": [
      "2017-08-15T15:41:06+02:00\n",
      "\n",
      "CPython 3.6.1\n",
      "IPython 5.3.0\n",
      "\n",
      "compiler   : GCC 4.8.2 20140120 (Red Hat 4.8.2-15)\n",
      "system     : Linux\n",
      "release    : 4.10.0-32-generic\n",
      "machine    : x86_64\n",
      "processor  : x86_64\n",
      "CPU cores  : 8\n",
      "interpreter: 64bit\n"
     ]
    }
   ],
   "source": [
    "%load_ext watermark\n",
    "%watermark"
   ]
  },
  {
   "cell_type": "markdown",
   "metadata": {},
   "source": [
    "El archivo original está en: https://www.fueleconomy.gov/feg/epadata/vehicles.csv.zip\n",
    "El archivo que vamos a usar es una versión modificada (con menos columnas)\n",
    "\n",
    "Descripcion del dataset\n",
    "http://www.fueleconomy.gov/feg/ws/index.shtml#ft7\n",
    "\n",
    "\n",
    "Supongamos que somos la agencia de porteccion ambiental americana, la EPA. Uno de sus trabajos es analizar los coches nuevos que se venden en EEUU y estudiar su contaminacion."
   ]
  },
  {
   "cell_type": "code",
   "execution_count": 5,
   "metadata": {
    "collapsed": true
   },
   "outputs": [],
   "source": [
    "import pandas as pd"
   ]
  },
  {
   "cell_type": "code",
   "execution_count": 2,
   "metadata": {
    "collapsed": true
   },
   "outputs": [],
   "source": [
    "%matplotlib notebook"
   ]
  },
  {
   "cell_type": "markdown",
   "metadata": {},
   "source": [
    "### Lectura de datos"
   ]
  },
  {
   "cell_type": "code",
   "execution_count": 6,
   "metadata": {
    "collapsed": true
   },
   "outputs": [],
   "source": [
    "vehiculos = pd.read_csv(\"../data/vehiculos_original.csv\")"
   ]
  },
  {
   "cell_type": "code",
   "execution_count": 3,
   "metadata": {},
   "outputs": [
    {
     "data": {
      "text/plain": [
       "(38436, 11)"
      ]
     },
     "execution_count": 3,
     "metadata": {},
     "output_type": "execute_result"
    }
   ],
   "source": [
    "vehiculos.shape"
   ]
  },
  {
   "cell_type": "code",
   "execution_count": 1,
   "metadata": {},
   "outputs": [
    {
     "ename": "NameError",
     "evalue": "name 'vehiculos' is not defined",
     "output_type": "error",
     "traceback": [
      "\u001b[1;31m---------------------------------------------------------------------------\u001b[0m",
      "\u001b[1;31mNameError\u001b[0m                                 Traceback (most recent call last)",
      "\u001b[1;32m<ipython-input-1-00eeae5c5f97>\u001b[0m in \u001b[0;36m<module>\u001b[1;34m\u001b[0m\n\u001b[1;32m----> 1\u001b[1;33m \u001b[0mvehiculos\u001b[0m\u001b[1;33m.\u001b[0m\u001b[0mhead\u001b[0m\u001b[1;33m(\u001b[0m\u001b[1;33m)\u001b[0m\u001b[1;33m\u001b[0m\u001b[1;33m\u001b[0m\u001b[0m\n\u001b[0m",
      "\u001b[1;31mNameError\u001b[0m: name 'vehiculos' is not defined"
     ]
    }
   ],
   "source": [
    "vehiculos.head()"
   ]
  },
  {
   "cell_type": "markdown",
   "metadata": {},
   "source": [
    "Es conveniente renombrar las columnas y darles un nombre descriptivo"
   ]
  },
  {
   "cell_type": "code",
   "execution_count": 7,
   "metadata": {
    "collapsed": true
   },
   "outputs": [],
   "source": [
    "vehiculos = vehiculos.rename(columns={\n",
    "    \"cylinders\":\"cilindros\",\n",
    "    \"trany\":\"transmision\",\n",
    "    \"make\":\"fabricante\",\n",
    "    \"model\":\"modelo\",\n",
    "    \"displ\":\"desplazamiento\", #volumen de desplazamiento del motor\n",
    "    \"drive\":\"traccion\",\n",
    "    \"VClass\":\"clase\",\n",
    "    \"fuelType\":\"combustible\",\n",
    "    \"comb08\":\"consumo\", #combined MPG for fuelType1\n",
    "    \"co2TailpipeGpm\":\"co2\", # tailpipe CO2 in grams/mile\n",
    "})"
   ]
  },
  {
   "cell_type": "code",
   "execution_count": 6,
   "metadata": {},
   "outputs": [
    {
     "data": {
      "text/html": [
       "<div>\n",
       "<style>\n",
       "    .dataframe thead tr:only-child th {\n",
       "        text-align: right;\n",
       "    }\n",
       "\n",
       "    .dataframe thead th {\n",
       "        text-align: left;\n",
       "    }\n",
       "\n",
       "    .dataframe tbody tr th {\n",
       "        vertical-align: top;\n",
       "    }\n",
       "</style>\n",
       "<table border=\"1\" class=\"dataframe\">\n",
       "  <thead>\n",
       "    <tr style=\"text-align: right;\">\n",
       "      <th></th>\n",
       "      <th>fabricante</th>\n",
       "      <th>modelo</th>\n",
       "      <th>year</th>\n",
       "      <th>desplazamiento</th>\n",
       "      <th>cilindros</th>\n",
       "      <th>transmision</th>\n",
       "      <th>traccion</th>\n",
       "      <th>clase</th>\n",
       "      <th>combustible</th>\n",
       "      <th>consumo</th>\n",
       "      <th>co2</th>\n",
       "    </tr>\n",
       "  </thead>\n",
       "  <tbody>\n",
       "    <tr>\n",
       "      <th>0</th>\n",
       "      <td>AM General</td>\n",
       "      <td>DJ Po Vehicle 2WD</td>\n",
       "      <td>1984</td>\n",
       "      <td>2.5</td>\n",
       "      <td>4.0</td>\n",
       "      <td>Automatic 3-spd</td>\n",
       "      <td>2-Wheel Drive</td>\n",
       "      <td>Special Purpose Vehicle 2WD</td>\n",
       "      <td>Regular</td>\n",
       "      <td>17</td>\n",
       "      <td>522.764706</td>\n",
       "    </tr>\n",
       "    <tr>\n",
       "      <th>1</th>\n",
       "      <td>AM General</td>\n",
       "      <td>FJ8c Post Office</td>\n",
       "      <td>1984</td>\n",
       "      <td>4.2</td>\n",
       "      <td>6.0</td>\n",
       "      <td>Automatic 3-spd</td>\n",
       "      <td>2-Wheel Drive</td>\n",
       "      <td>Special Purpose Vehicle 2WD</td>\n",
       "      <td>Regular</td>\n",
       "      <td>13</td>\n",
       "      <td>683.615385</td>\n",
       "    </tr>\n",
       "    <tr>\n",
       "      <th>2</th>\n",
       "      <td>AM General</td>\n",
       "      <td>Post Office DJ5 2WD</td>\n",
       "      <td>1985</td>\n",
       "      <td>2.5</td>\n",
       "      <td>4.0</td>\n",
       "      <td>Automatic 3-spd</td>\n",
       "      <td>Rear-Wheel Drive</td>\n",
       "      <td>Special Purpose Vehicle 2WD</td>\n",
       "      <td>Regular</td>\n",
       "      <td>16</td>\n",
       "      <td>555.437500</td>\n",
       "    </tr>\n",
       "    <tr>\n",
       "      <th>3</th>\n",
       "      <td>AM General</td>\n",
       "      <td>Post Office DJ8 2WD</td>\n",
       "      <td>1985</td>\n",
       "      <td>4.2</td>\n",
       "      <td>6.0</td>\n",
       "      <td>Automatic 3-spd</td>\n",
       "      <td>Rear-Wheel Drive</td>\n",
       "      <td>Special Purpose Vehicle 2WD</td>\n",
       "      <td>Regular</td>\n",
       "      <td>13</td>\n",
       "      <td>683.615385</td>\n",
       "    </tr>\n",
       "    <tr>\n",
       "      <th>4</th>\n",
       "      <td>ASC Incorporated</td>\n",
       "      <td>GNX</td>\n",
       "      <td>1987</td>\n",
       "      <td>3.8</td>\n",
       "      <td>6.0</td>\n",
       "      <td>Automatic 4-spd</td>\n",
       "      <td>Rear-Wheel Drive</td>\n",
       "      <td>Midsize Cars</td>\n",
       "      <td>Premium</td>\n",
       "      <td>16</td>\n",
       "      <td>555.437500</td>\n",
       "    </tr>\n",
       "  </tbody>\n",
       "</table>\n",
       "</div>"
      ],
      "text/plain": [
       "         fabricante               modelo  year  desplazamiento  cilindros  \\\n",
       "0        AM General    DJ Po Vehicle 2WD  1984             2.5        4.0   \n",
       "1        AM General     FJ8c Post Office  1984             4.2        6.0   \n",
       "2        AM General  Post Office DJ5 2WD  1985             2.5        4.0   \n",
       "3        AM General  Post Office DJ8 2WD  1985             4.2        6.0   \n",
       "4  ASC Incorporated                  GNX  1987             3.8        6.0   \n",
       "\n",
       "       transmision          traccion                        clase combustible  \\\n",
       "0  Automatic 3-spd     2-Wheel Drive  Special Purpose Vehicle 2WD     Regular   \n",
       "1  Automatic 3-spd     2-Wheel Drive  Special Purpose Vehicle 2WD     Regular   \n",
       "2  Automatic 3-spd  Rear-Wheel Drive  Special Purpose Vehicle 2WD     Regular   \n",
       "3  Automatic 3-spd  Rear-Wheel Drive  Special Purpose Vehicle 2WD     Regular   \n",
       "4  Automatic 4-spd  Rear-Wheel Drive                 Midsize Cars     Premium   \n",
       "\n",
       "   consumo         co2  \n",
       "0       17  522.764706  \n",
       "1       13  683.615385  \n",
       "2       16  555.437500  \n",
       "3       13  683.615385  \n",
       "4       16  555.437500  "
      ]
     },
     "execution_count": 6,
     "metadata": {},
     "output_type": "execute_result"
    }
   ],
   "source": [
    "vehiculos.head()"
   ]
  },
  {
   "cell_type": "code",
   "execution_count": 7,
   "metadata": {},
   "outputs": [
    {
     "data": {
      "text/plain": [
       "fabricante         object\n",
       "modelo             object\n",
       "year                int64\n",
       "desplazamiento    float64\n",
       "cilindros         float64\n",
       "transmision        object\n",
       "traccion           object\n",
       "clase              object\n",
       "combustible        object\n",
       "consumo             int64\n",
       "co2               float64\n",
       "dtype: object"
      ]
     },
     "execution_count": 7,
     "metadata": {},
     "output_type": "execute_result"
    }
   ],
   "source": [
    "vehiculos.dtypes"
   ]
  },
  {
   "cell_type": "markdown",
   "metadata": {},
   "source": [
    "**¿Cual es el objetivo de este análisis?**\n",
    "\n",
    "Un aspecto importante que me gusta siempre tener claro al empezar un EDA es saber el objetivo del mismo. Generalmente hay una lista de preguntas concretas que responder, o al menos las personas a cargo de recolectar el dataset lo crearon con un objetivo en mente.\n",
    "\n",
    "En este caso, uno de los objetivos por los cuales la EPA crea este dataset es para controlar lo que contamina cada coche, en este caso la variable co2"
   ]
  },
  {
   "cell_type": "markdown",
   "metadata": {},
   "source": [
    "### Descripcion de entidad\n",
    "\n",
    "- fabricante\n",
    "- fabricante-modelo\n",
    "- fabricante-model-año\n",
    "- fabricante-año"
   ]
  },
  {
   "cell_type": "markdown",
   "metadata": {},
   "source": [
    "### Despues de cada paso es importante guardar el dataset. Asi no modificamos el original"
   ]
  },
  {
   "cell_type": "code",
   "execution_count": 8,
   "metadata": {
    "collapsed": true
   },
   "outputs": [],
   "source": [
    "vehiculos.to_csv(\"../data/vehiculos.1.procesado_inicial.csv\", index=False)"
   ]
  },
  {
   "cell_type": "code",
   "execution_count": null,
   "metadata": {
    "collapsed": true
   },
   "outputs": [],
   "source": []
  }
 ],
 "metadata": {
  "kernelspec": {
   "display_name": "Python 3",
   "language": "python",
   "name": "python3"
  },
  "language_info": {
   "codemirror_mode": {
    "name": "ipython",
    "version": 3
   },
   "file_extension": ".py",
   "mimetype": "text/x-python",
   "name": "python",
   "nbconvert_exporter": "python",
   "pygments_lexer": "ipython3",
   "version": "3.7.6"
  }
 },
 "nbformat": 4,
 "nbformat_minor": 2
}
