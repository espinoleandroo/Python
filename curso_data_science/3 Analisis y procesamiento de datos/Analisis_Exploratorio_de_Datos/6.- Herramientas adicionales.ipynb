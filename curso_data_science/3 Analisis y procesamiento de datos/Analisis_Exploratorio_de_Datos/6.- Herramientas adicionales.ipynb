{
 "cells": [
  {
   "cell_type": "code",
   "execution_count": 1,
   "metadata": {},
   "outputs": [
    {
     "name": "stdout",
     "output_type": "stream",
     "text": [
      "2020-10-14T21:38:10-05:00\n",
      "\n",
      "CPython 3.7.6\n",
      "IPython 7.12.0\n",
      "\n",
      "compiler   : MSC v.1916 64 bit (AMD64)\n",
      "system     : Windows\n",
      "release    : 10\n",
      "machine    : AMD64\n",
      "processor  : Intel64 Family 6 Model 142 Stepping 10, GenuineIntel\n",
      "CPU cores  : 8\n",
      "interpreter: 64bit\n"
     ]
    }
   ],
   "source": [
    "%load_ext watermark\n",
    "%watermark"
   ]
  },
  {
   "cell_type": "markdown",
   "metadata": {},
   "source": [
    "Aquí incluyo unas herramientas que son bastante útiles a la hora de hacer EDA"
   ]
  },
  {
   "cell_type": "markdown",
   "metadata": {},
   "source": [
    "### Ingesta de datos"
   ]
  },
  {
   "cell_type": "code",
   "execution_count": 2,
   "metadata": {},
   "outputs": [],
   "source": [
    "import pandas as pd\n",
    "\n",
    "vehiculos = pd.read_csv(\"../../_data/vehiculos.1.procesado_inicial.csv\")"
   ]
  },
  {
   "cell_type": "markdown",
   "metadata": {},
   "source": [
    "### Pandas-profiling\n",
    "\n",
    "https://github.com/JosPolfliet/pandas-profiling"
   ]
  },
  {
   "cell_type": "code",
   "execution_count": 6,
   "metadata": {},
   "outputs": [
    {
     "name": "stdout",
     "output_type": "stream",
     "text": [
      "Collecting package metadata (current_repodata.json): ...working... done\n",
      "Solving environment: ...working... done\n",
      "\n",
      "# All requested packages already installed.\n",
      "\n",
      "\n",
      "D:\\Learning\\Python\\curso_data_science\\3 Analisis y procesamiento de datos\\Analisis_Exploratorio_de_Datos>set \"KERAS_BACKEND=\" \n",
      "\n",
      "D:\\Learning\\Python\\curso_data_science\\3 Analisis y procesamiento de datos\\Analisis_Exploratorio_de_Datos>python C:\\Users\\Le_an\\anaconda3\\etc\\keras\\load_config.py  1>temp.txt \n",
      "\n",
      "D:\\Learning\\Python\\curso_data_science\\3 Analisis y procesamiento de datos\\Analisis_Exploratorio_de_Datos>set /p KERAS_BACKEND= 0<temp.txt \n",
      "\n",
      "D:\\Learning\\Python\\curso_data_science\\3 Analisis y procesamiento de datos\\Analisis_Exploratorio_de_Datos>del temp.txt \n",
      "\n",
      "D:\\Learning\\Python\\curso_data_science\\3 Analisis y procesamiento de datos\\Analisis_Exploratorio_de_Datos>python -c \"import keras\"  1>nul 2>&1 \n",
      "\n",
      "D:\\Learning\\Python\\curso_data_science\\3 Analisis y procesamiento de datos\\Analisis_Exploratorio_de_Datos>if errorlevel 1 (\n",
      "ver  1>nul  \n",
      " set \"KERAS_BACKEND=theano\"  \n",
      " python -c \"import keras\"  1>nul 2>&1 \n",
      ") \n",
      "\n",
      "D:\\Learning\\Python\\curso_data_science\\3 Analisis y procesamiento de datos\\Analisis_Exploratorio_de_Datos>SET DISTUTILS_USE_SDK=1 \n",
      "\n",
      "D:\\Learning\\Python\\curso_data_science\\3 Analisis y procesamiento de datos\\Analisis_Exploratorio_de_Datos>SET MSSdk=1 \n",
      "\n",
      "D:\\Learning\\Python\\curso_data_science\\3 Analisis y procesamiento de datos\\Analisis_Exploratorio_de_Datos>SET \"VS_VERSION=15.0\" \n",
      "\n",
      "D:\\Learning\\Python\\curso_data_science\\3 Analisis y procesamiento de datos\\Analisis_Exploratorio_de_Datos>SET \"VS_MAJOR=15\" \n",
      "\n",
      "D:\\Learning\\Python\\curso_data_science\\3 Analisis y procesamiento de datos\\Analisis_Exploratorio_de_Datos>SET \"VS_YEAR=2017\" \n",
      "\n",
      "D:\\Learning\\Python\\curso_data_science\\3 Analisis y procesamiento de datos\\Analisis_Exploratorio_de_Datos>set \"MSYS2_ARG_CONV_EXCL=/AI;/AL;/OUT;/out\" \n",
      "\n",
      "D:\\Learning\\Python\\curso_data_science\\3 Analisis y procesamiento de datos\\Analisis_Exploratorio_de_Datos>set \"MSYS2_ENV_CONV_EXCL=CL\" \n",
      "\n",
      "D:\\Learning\\Python\\curso_data_science\\3 Analisis y procesamiento de datos\\Analisis_Exploratorio_de_Datos>set \"PY_VCRUNTIME_REDIST=\\bin\\vcruntime140.dll\" \n",
      "\n",
      "D:\\Learning\\Python\\curso_data_science\\3 Analisis y procesamiento de datos\\Analisis_Exploratorio_de_Datos>set \"CXX=cl.exe\" \n",
      "\n",
      "D:\\Learning\\Python\\curso_data_science\\3 Analisis y procesamiento de datos\\Analisis_Exploratorio_de_Datos>set \"CC=cl.exe\" \n",
      "\n",
      "D:\\Learning\\Python\\curso_data_science\\3 Analisis y procesamiento de datos\\Analisis_Exploratorio_de_Datos>set \"VSINSTALLDIR=\" \n",
      "\n",
      "D:\\Learning\\Python\\curso_data_science\\3 Analisis y procesamiento de datos\\Analisis_Exploratorio_de_Datos>for /F \"usebackq tokens=*\" %i in (`vswhere.exe -nologo -products * -version [15.0,16.0) -property installationPath`) do (set \"VSINSTALLDIR=%i\\\" ) \n",
      "\n",
      "D:\\Learning\\Python\\curso_data_science\\3 Analisis y procesamiento de datos\\Analisis_Exploratorio_de_Datos>if not exist \"\" (for /F \"usebackq tokens=*\" %i in (`vswhere.exe -nologo -products * -requires Microsoft.VisualStudio.Component.VC.v141.x86.x64 -property installationPath`) do (set \"VSINSTALLDIR=%i\\\" ) ) \n",
      "\n",
      "D:\\Learning\\Python\\curso_data_science\\3 Analisis y procesamiento de datos\\Analisis_Exploratorio_de_Datos>if not exist \"\" (set \"VSINSTALLDIR=C:\\Program Files (x86)\\Microsoft Visual Studio\\2017\\Professional\\\" ) \n",
      "\n",
      "D:\\Learning\\Python\\curso_data_science\\3 Analisis y procesamiento de datos\\Analisis_Exploratorio_de_Datos>if not exist \"C:\\Program Files (x86)\\Microsoft Visual Studio\\2017\\Professional\\\" (set \"VSINSTALLDIR=C:\\Program Files (x86)\\Microsoft Visual Studio\\2017\\Community\\\" ) \n",
      "\n",
      "D:\\Learning\\Python\\curso_data_science\\3 Analisis y procesamiento de datos\\Analisis_Exploratorio_de_Datos>if not exist \"C:\\Program Files (x86)\\Microsoft Visual Studio\\2017\\Community\\\" (set \"VSINSTALLDIR=C:\\Program Files (x86)\\Microsoft Visual Studio\\2017\\BuildTools\\\" ) \n",
      "\n",
      "D:\\Learning\\Python\\curso_data_science\\3 Analisis y procesamiento de datos\\Analisis_Exploratorio_de_Datos>if not exist \"C:\\Program Files (x86)\\Microsoft Visual Studio\\2017\\BuildTools\\\" (set \"VSINSTALLDIR=C:\\Program Files (x86)\\Microsoft Visual Studio\\2017\\Enterprise\\\" ) \n",
      "\n",
      "D:\\Learning\\Python\\curso_data_science\\3 Analisis y procesamiento de datos\\Analisis_Exploratorio_de_Datos>IF NOT \"\" == \"\" (\n",
      "set \"INCLUDE=;\"  \n",
      " set \"LIB=;\"  \n",
      " set \"CMAKE_PREFIX_PATH=;\" \n",
      ") \n",
      "\n",
      "D:\\Learning\\Python\\curso_data_science\\3 Analisis y procesamiento de datos\\Analisis_Exploratorio_de_Datos>call :GetWin10SdkDir \n",
      "\n",
      "D:\\Learning\\Python\\curso_data_science\\3 Analisis y procesamiento de datos\\Analisis_Exploratorio_de_Datos>call :GetWin10SdkDirHelper HKLM\\SOFTWARE\\Wow6432Node  1>nul 2>&1 \n",
      "\n",
      "D:\\Learning\\Python\\curso_data_science\\3 Analisis y procesamiento de datos\\Analisis_Exploratorio_de_Datos>if errorlevel 1 call :GetWin10SdkDirHelper HKCU\\SOFTWARE\\Wow6432Node  1>nul 2>&1 \n",
      "\n",
      "D:\\Learning\\Python\\curso_data_science\\3 Analisis y procesamiento de datos\\Analisis_Exploratorio_de_Datos>if errorlevel 1 call :GetWin10SdkDirHelper HKLM\\SOFTWARE  1>nul 2>&1 \n",
      "\n",
      "D:\\Learning\\Python\\curso_data_science\\3 Analisis y procesamiento de datos\\Analisis_Exploratorio_de_Datos>if errorlevel 1 call :GetWin10SdkDirHelper HKCU\\SOFTWARE  1>nul 2>&1 \n",
      "\n",
      "D:\\Learning\\Python\\curso_data_science\\3 Analisis y procesamiento de datos\\Analisis_Exploratorio_de_Datos>if errorlevel 1 exit /B 1 \n",
      "\n",
      "D:\\Learning\\Python\\curso_data_science\\3 Analisis y procesamiento de datos\\Analisis_Exploratorio_de_Datos>exit /B 0 \n",
      "\n",
      "D:\\Learning\\Python\\curso_data_science\\3 Analisis y procesamiento de datos\\Analisis_Exploratorio_de_Datos>for /F %i in ('dir /ON /B \"C:\\Program Files (x86)\\Windows Kits\\10\\\\include\\10.*\"') DO (SET WindowsSDKVer=%~i ) \n",
      "\n",
      "D:\\Learning\\Python\\curso_data_science\\3 Analisis y procesamiento de datos\\Analisis_Exploratorio_de_Datos>(SET WindowsSDKVer=10.0.18362.0 ) \n",
      "\n",
      "D:\\Learning\\Python\\curso_data_science\\3 Analisis y procesamiento de datos\\Analisis_Exploratorio_de_Datos>if errorlevel 1 (echo \"Didn't find any windows 10 SDK. I'm not sure if things will work, but let's try...\" )  else (echo Windows SDK version found as: \"10.0.18362.0\" ) \n",
      "Windows SDK version found as: \"10.0.18362.0\"\n",
      "\n",
      "D:\\Learning\\Python\\curso_data_science\\3 Analisis y procesamiento de datos\\Analisis_Exploratorio_de_Datos>IF \"win-64\" == \"win-64\" (\n",
      "set \"CMAKE_GEN=Visual Studio 15 2017 Win64\"  \n",
      " set \"BITS=64\" \n",
      ")  else (\n",
      "set \"CMAKE_GEN=Visual Studio 15 2017\"  \n",
      " set \"BITS=32\" \n",
      ") \n",
      "\n",
      "D:\\Learning\\Python\\curso_data_science\\3 Analisis y procesamiento de datos\\Analisis_Exploratorio_de_Datos>pushd C:\\Program Files (x86)\\Microsoft Visual Studio\\2017\\Enterprise\\ \n",
      "\n",
      "D:\\Learning\\Python\\curso_data_science\\3 Analisis y procesamiento de datos\\Analisis_Exploratorio_de_Datos>CALL \"VC\\Auxiliary\\Build\\vcvars64.bat\" -vcvars_ver=14.16 10.0.18362.0 \n",
      "\n",
      "D:\\Learning\\Python\\curso_data_science\\3 Analisis y procesamiento de datos\\Analisis_Exploratorio_de_Datos>popd\n",
      "\n",
      "D:\\Learning\\Python\\curso_data_science\\3 Analisis y procesamiento de datos\\Analisis_Exploratorio_de_Datos>IF \"Visual Studio 15 2017 Win64\" == \"\" SET \"CMAKE_GENERATOR=Visual Studio 15 2017 Win64\" \n",
      "\n",
      "D:\\Learning\\Python\\curso_data_science\\3 Analisis y procesamiento de datos\\Analisis_Exploratorio_de_Datos>call :GetWin10SdkDirHelper HKLM\\SOFTWARE\\Wow6432Node  1>nul 2>&1 \n",
      "\n",
      "D:\\Learning\\Python\\curso_data_science\\3 Analisis y procesamiento de datos\\Analisis_Exploratorio_de_Datos>if errorlevel 1 call :GetWin10SdkDirHelper HKCU\\SOFTWARE\\Wow6432Node  1>nul 2>&1 \n",
      "\n",
      "D:\\Learning\\Python\\curso_data_science\\3 Analisis y procesamiento de datos\\Analisis_Exploratorio_de_Datos>if errorlevel 1 call :GetWin10SdkDirHelper HKLM\\SOFTWARE  1>nul 2>&1 \n",
      "\n",
      "D:\\Learning\\Python\\curso_data_science\\3 Analisis y procesamiento de datos\\Analisis_Exploratorio_de_Datos>if errorlevel 1 call :GetWin10SdkDirHelper HKCU\\SOFTWARE  1>nul 2>&1 \n",
      "\n",
      "D:\\Learning\\Python\\curso_data_science\\3 Analisis y procesamiento de datos\\Analisis_Exploratorio_de_Datos>if errorlevel 1 exit /B 1 \n",
      "\n",
      "D:\\Learning\\Python\\curso_data_science\\3 Analisis y procesamiento de datos\\Analisis_Exploratorio_de_Datos>exit /B 0 \n"
     ]
    },
    {
     "name": "stderr",
     "output_type": "stream",
     "text": [
      "The system cannot find the path specified.\n",
      "The system cannot find the path specified.\n"
     ]
    }
   ],
   "source": [
    "!conda install -y pandas-profiling"
   ]
  },
  {
   "cell_type": "code",
   "execution_count": 3,
   "metadata": {
    "scrolled": false
   },
   "outputs": [
    {
     "ename": "TypeError",
     "evalue": "concat() got an unexpected keyword argument 'join_axes'",
     "output_type": "error",
     "traceback": [
      "\u001b[1;31m---------------------------------------------------------------------------\u001b[0m",
      "\u001b[1;31mTypeError\u001b[0m                                 Traceback (most recent call last)",
      "\u001b[1;32m<ipython-input-3-3f62b610a6d7>\u001b[0m in \u001b[0;36m<module>\u001b[1;34m\u001b[0m\n\u001b[0;32m      1\u001b[0m \u001b[1;32mimport\u001b[0m \u001b[0mpandas_profiling\u001b[0m\u001b[1;33m\u001b[0m\u001b[1;33m\u001b[0m\u001b[0m\n\u001b[0;32m      2\u001b[0m \u001b[1;33m\u001b[0m\u001b[0m\n\u001b[1;32m----> 3\u001b[1;33m \u001b[0mpandas_profiling\u001b[0m\u001b[1;33m.\u001b[0m\u001b[0mProfileReport\u001b[0m\u001b[1;33m(\u001b[0m\u001b[0mvehiculos\u001b[0m\u001b[1;33m)\u001b[0m\u001b[1;33m\u001b[0m\u001b[1;33m\u001b[0m\u001b[0m\n\u001b[0m",
      "\u001b[1;32m~\\anaconda3\\lib\\site-packages\\pandas_profiling\\__init__.py\u001b[0m in \u001b[0;36m__init__\u001b[1;34m(self, df, **kwargs)\u001b[0m\n\u001b[0;32m     64\u001b[0m         \u001b[0msample\u001b[0m \u001b[1;33m=\u001b[0m \u001b[0mkwargs\u001b[0m\u001b[1;33m.\u001b[0m\u001b[0mget\u001b[0m\u001b[1;33m(\u001b[0m\u001b[1;34m'sample'\u001b[0m\u001b[1;33m,\u001b[0m \u001b[0mdf\u001b[0m\u001b[1;33m.\u001b[0m\u001b[0mhead\u001b[0m\u001b[1;33m(\u001b[0m\u001b[1;33m)\u001b[0m\u001b[1;33m)\u001b[0m\u001b[1;33m\u001b[0m\u001b[1;33m\u001b[0m\u001b[0m\n\u001b[0;32m     65\u001b[0m \u001b[1;33m\u001b[0m\u001b[0m\n\u001b[1;32m---> 66\u001b[1;33m         \u001b[0mdescription_set\u001b[0m \u001b[1;33m=\u001b[0m \u001b[0mdescribe\u001b[0m\u001b[1;33m(\u001b[0m\u001b[0mdf\u001b[0m\u001b[1;33m,\u001b[0m \u001b[1;33m**\u001b[0m\u001b[0mkwargs\u001b[0m\u001b[1;33m)\u001b[0m\u001b[1;33m\u001b[0m\u001b[1;33m\u001b[0m\u001b[0m\n\u001b[0m\u001b[0;32m     67\u001b[0m \u001b[1;33m\u001b[0m\u001b[0m\n\u001b[0;32m     68\u001b[0m         self.html = to_html(sample,\n",
      "\u001b[1;32m~\\anaconda3\\lib\\site-packages\\pandas_profiling\\describe.py\u001b[0m in \u001b[0;36mdescribe\u001b[1;34m(df, bins, check_correlation, correlation_threshold, correlation_overrides, check_recoded, pool_size, **kwargs)\u001b[0m\n\u001b[0;32m    390\u001b[0m             \u001b[1;32mif\u001b[0m \u001b[0mname\u001b[0m \u001b[1;32mnot\u001b[0m \u001b[1;32min\u001b[0m \u001b[0mnames\u001b[0m\u001b[1;33m:\u001b[0m\u001b[1;33m\u001b[0m\u001b[1;33m\u001b[0m\u001b[0m\n\u001b[0;32m    391\u001b[0m                 \u001b[0mnames\u001b[0m\u001b[1;33m.\u001b[0m\u001b[0mappend\u001b[0m\u001b[1;33m(\u001b[0m\u001b[0mname\u001b[0m\u001b[1;33m)\u001b[0m\u001b[1;33m\u001b[0m\u001b[1;33m\u001b[0m\u001b[0m\n\u001b[1;32m--> 392\u001b[1;33m     \u001b[0mvariable_stats\u001b[0m \u001b[1;33m=\u001b[0m \u001b[0mpd\u001b[0m\u001b[1;33m.\u001b[0m\u001b[0mconcat\u001b[0m\u001b[1;33m(\u001b[0m\u001b[0mldesc\u001b[0m\u001b[1;33m,\u001b[0m \u001b[0mjoin_axes\u001b[0m\u001b[1;33m=\u001b[0m\u001b[0mpd\u001b[0m\u001b[1;33m.\u001b[0m\u001b[0mIndex\u001b[0m\u001b[1;33m(\u001b[0m\u001b[1;33m[\u001b[0m\u001b[0mnames\u001b[0m\u001b[1;33m]\u001b[0m\u001b[1;33m)\u001b[0m\u001b[1;33m,\u001b[0m \u001b[0maxis\u001b[0m\u001b[1;33m=\u001b[0m\u001b[1;36m1\u001b[0m\u001b[1;33m)\u001b[0m\u001b[1;33m\u001b[0m\u001b[1;33m\u001b[0m\u001b[0m\n\u001b[0m\u001b[0;32m    393\u001b[0m     \u001b[0mvariable_stats\u001b[0m\u001b[1;33m.\u001b[0m\u001b[0mcolumns\u001b[0m\u001b[1;33m.\u001b[0m\u001b[0mnames\u001b[0m \u001b[1;33m=\u001b[0m \u001b[0mdf\u001b[0m\u001b[1;33m.\u001b[0m\u001b[0mcolumns\u001b[0m\u001b[1;33m.\u001b[0m\u001b[0mnames\u001b[0m\u001b[1;33m\u001b[0m\u001b[1;33m\u001b[0m\u001b[0m\n\u001b[0;32m    394\u001b[0m \u001b[1;33m\u001b[0m\u001b[0m\n",
      "\u001b[1;31mTypeError\u001b[0m: concat() got an unexpected keyword argument 'join_axes'"
     ]
    }
   ],
   "source": [
    "import pandas_profiling\n",
    "\n",
    "pandas_profiling.ProfileReport(vehiculos)"
   ]
  },
  {
   "cell_type": "code",
   "execution_count": 4,
   "metadata": {},
   "outputs": [],
   "source": [
    "%matplotlib inline"
   ]
  },
  {
   "cell_type": "markdown",
   "metadata": {},
   "source": [
    "### Missigno\n",
    "\n",
    "https://github.com/ResidentMario/missingno"
   ]
  },
  {
   "cell_type": "code",
   "execution_count": 5,
   "metadata": {},
   "outputs": [
    {
     "name": "stdout",
     "output_type": "stream",
     "text": [
      "Collecting package metadata (current_repodata.json): ...working... done\n",
      "Solving environment: ...working... done\n",
      "\n",
      "## Package Plan ##\n",
      "\n",
      "  environment location: C:\\Users\\Le_an\\anaconda3\n",
      "\n",
      "  added / updated specs:\n",
      "    - missingno\n",
      "\n",
      "\n",
      "The following packages will be downloaded:\n",
      "\n",
      "    package                    |            build\n",
      "    ---------------------------|-----------------\n",
      "    missingno-0.4.2            |             py_1          12 KB  conda-forge\n",
      "    ------------------------------------------------------------\n",
      "                                           Total:          12 KB\n",
      "\n",
      "The following NEW packages will be INSTALLED:\n",
      "\n",
      "  missingno          conda-forge/noarch::missingno-0.4.2-py_1\n",
      "\n",
      "\n",
      "\n",
      "Downloading and Extracting Packages\n",
      "\n",
      "missingno-0.4.2      | 12 KB     |            |   0% \n",
      "missingno-0.4.2      | 12 KB     | ########## | 100% \n",
      "missingno-0.4.2      | 12 KB     | ########## | 100% \n",
      "Preparing transaction: ...working... done\n",
      "Verifying transaction: ...working... done\n",
      "Executing transaction: ...working... done\n",
      "\n",
      "D:\\Learning\\Python\\curso_data_science\\3 Analisis y procesamiento de datos\\Analisis_Exploratorio_de_Datos>set \"KERAS_BACKEND=\" \n",
      "\n",
      "D:\\Learning\\Python\\curso_data_science\\3 Analisis y procesamiento de datos\\Analisis_Exploratorio_de_Datos>python C:\\Users\\Le_an\\anaconda3\\etc\\keras\\load_config.py  1>temp.txt \n",
      "\n",
      "D:\\Learning\\Python\\curso_data_science\\3 Analisis y procesamiento de datos\\Analisis_Exploratorio_de_Datos>set /p KERAS_BACKEND= 0<temp.txt \n",
      "\n",
      "D:\\Learning\\Python\\curso_data_science\\3 Analisis y procesamiento de datos\\Analisis_Exploratorio_de_Datos>del temp.txt \n",
      "\n",
      "D:\\Learning\\Python\\curso_data_science\\3 Analisis y procesamiento de datos\\Analisis_Exploratorio_de_Datos>python -c \"import keras\"  1>nul 2>&1 \n",
      "\n",
      "D:\\Learning\\Python\\curso_data_science\\3 Analisis y procesamiento de datos\\Analisis_Exploratorio_de_Datos>if errorlevel 1 (\n",
      "ver  1>nul  \n",
      " set \"KERAS_BACKEND=theano\"  \n",
      " python -c \"import keras\"  1>nul 2>&1 \n",
      ") \n",
      "\n",
      "D:\\Learning\\Python\\curso_data_science\\3 Analisis y procesamiento de datos\\Analisis_Exploratorio_de_Datos>SET DISTUTILS_USE_SDK=1 \n",
      "\n",
      "D:\\Learning\\Python\\curso_data_science\\3 Analisis y procesamiento de datos\\Analisis_Exploratorio_de_Datos>SET MSSdk=1 \n",
      "\n",
      "D:\\Learning\\Python\\curso_data_science\\3 Analisis y procesamiento de datos\\Analisis_Exploratorio_de_Datos>SET \"VS_VERSION=15.0\" \n",
      "\n",
      "D:\\Learning\\Python\\curso_data_science\\3 Analisis y procesamiento de datos\\Analisis_Exploratorio_de_Datos>SET \"VS_MAJOR=15\" \n",
      "\n",
      "D:\\Learning\\Python\\curso_data_science\\3 Analisis y procesamiento de datos\\Analisis_Exploratorio_de_Datos>SET \"VS_YEAR=2017\" \n",
      "\n",
      "D:\\Learning\\Python\\curso_data_science\\3 Analisis y procesamiento de datos\\Analisis_Exploratorio_de_Datos>set \"MSYS2_ARG_CONV_EXCL=/AI;/AL;/OUT;/out\" \n",
      "\n",
      "D:\\Learning\\Python\\curso_data_science\\3 Analisis y procesamiento de datos\\Analisis_Exploratorio_de_Datos>set \"MSYS2_ENV_CONV_EXCL=CL\" \n",
      "\n",
      "D:\\Learning\\Python\\curso_data_science\\3 Analisis y procesamiento de datos\\Analisis_Exploratorio_de_Datos>set \"PY_VCRUNTIME_REDIST=\\bin\\vcruntime140.dll\" \n",
      "\n",
      "D:\\Learning\\Python\\curso_data_science\\3 Analisis y procesamiento de datos\\Analisis_Exploratorio_de_Datos>set \"CXX=cl.exe\" \n",
      "\n",
      "D:\\Learning\\Python\\curso_data_science\\3 Analisis y procesamiento de datos\\Analisis_Exploratorio_de_Datos>set \"CC=cl.exe\" \n",
      "\n",
      "D:\\Learning\\Python\\curso_data_science\\3 Analisis y procesamiento de datos\\Analisis_Exploratorio_de_Datos>set \"VSINSTALLDIR=\" \n",
      "\n",
      "D:\\Learning\\Python\\curso_data_science\\3 Analisis y procesamiento de datos\\Analisis_Exploratorio_de_Datos>for /F \"usebackq tokens=*\" %i in (`vswhere.exe -nologo -products * -version [15.0,16.0) -property installationPath`) do (set \"VSINSTALLDIR=%i\\\" ) \n",
      "\n",
      "D:\\Learning\\Python\\curso_data_science\\3 Analisis y procesamiento de datos\\Analisis_Exploratorio_de_Datos>if not exist \"\" (for /F \"usebackq tokens=*\" %i in (`vswhere.exe -nologo -products * -requires Microsoft.VisualStudio.Component.VC.v141.x86.x64 -property installationPath`) do (set \"VSINSTALLDIR=%i\\\" ) ) \n",
      "\n",
      "D:\\Learning\\Python\\curso_data_science\\3 Analisis y procesamiento de datos\\Analisis_Exploratorio_de_Datos>if not exist \"\" (set \"VSINSTALLDIR=C:\\Program Files (x86)\\Microsoft Visual Studio\\2017\\Professional\\\" ) \n",
      "\n",
      "D:\\Learning\\Python\\curso_data_science\\3 Analisis y procesamiento de datos\\Analisis_Exploratorio_de_Datos>if not exist \"C:\\Program Files (x86)\\Microsoft Visual Studio\\2017\\Professional\\\" (set \"VSINSTALLDIR=C:\\Program Files (x86)\\Microsoft Visual Studio\\2017\\Community\\\" ) \n",
      "\n",
      "D:\\Learning\\Python\\curso_data_science\\3 Analisis y procesamiento de datos\\Analisis_Exploratorio_de_Datos>if not exist \"C:\\Program Files (x86)\\Microsoft Visual Studio\\2017\\Community\\\" (set \"VSINSTALLDIR=C:\\Program Files (x86)\\Microsoft Visual Studio\\2017\\BuildTools\\\" ) \n",
      "\n",
      "D:\\Learning\\Python\\curso_data_science\\3 Analisis y procesamiento de datos\\Analisis_Exploratorio_de_Datos>if not exist \"C:\\Program Files (x86)\\Microsoft Visual Studio\\2017\\BuildTools\\\" (set \"VSINSTALLDIR=C:\\Program Files (x86)\\Microsoft Visual Studio\\2017\\Enterprise\\\" ) \n",
      "\n",
      "D:\\Learning\\Python\\curso_data_science\\3 Analisis y procesamiento de datos\\Analisis_Exploratorio_de_Datos>IF NOT \"\" == \"\" (\n",
      "set \"INCLUDE=;\"  \n",
      " set \"LIB=;\"  \n",
      " set \"CMAKE_PREFIX_PATH=;\" \n",
      ") \n",
      "\n",
      "D:\\Learning\\Python\\curso_data_science\\3 Analisis y procesamiento de datos\\Analisis_Exploratorio_de_Datos>call :GetWin10SdkDir \n",
      "\n",
      "D:\\Learning\\Python\\curso_data_science\\3 Analisis y procesamiento de datos\\Analisis_Exploratorio_de_Datos>call :GetWin10SdkDirHelper HKLM\\SOFTWARE\\Wow6432Node  1>nul 2>&1 \n",
      "\n",
      "D:\\Learning\\Python\\curso_data_science\\3 Analisis y procesamiento de datos\\Analisis_Exploratorio_de_Datos>if errorlevel 1 call :GetWin10SdkDirHelper HKCU\\SOFTWARE\\Wow6432Node  1>nul 2>&1 \n",
      "\n",
      "D:\\Learning\\Python\\curso_data_science\\3 Analisis y procesamiento de datos\\Analisis_Exploratorio_de_Datos>if errorlevel 1 call :GetWin10SdkDirHelper HKLM\\SOFTWARE  1>nul 2>&1 \n",
      "\n",
      "D:\\Learning\\Python\\curso_data_science\\3 Analisis y procesamiento de datos\\Analisis_Exploratorio_de_Datos>if errorlevel 1 call :GetWin10SdkDirHelper HKCU\\SOFTWARE  1>nul 2>&1 \n",
      "\n",
      "D:\\Learning\\Python\\curso_data_science\\3 Analisis y procesamiento de datos\\Analisis_Exploratorio_de_Datos>if errorlevel 1 exit /B 1 \n",
      "\n",
      "D:\\Learning\\Python\\curso_data_science\\3 Analisis y procesamiento de datos\\Analisis_Exploratorio_de_Datos>exit /B 0 \n",
      "\n",
      "D:\\Learning\\Python\\curso_data_science\\3 Analisis y procesamiento de datos\\Analisis_Exploratorio_de_Datos>for /F %i in ('dir /ON /B \"C:\\Program Files (x86)\\Windows Kits\\10\\\\include\\10.*\"') DO (SET WindowsSDKVer=%~i ) \n",
      "\n",
      "D:\\Learning\\Python\\curso_data_science\\3 Analisis y procesamiento de datos\\Analisis_Exploratorio_de_Datos>(SET WindowsSDKVer=10.0.18362.0 ) \n",
      "\n",
      "D:\\Learning\\Python\\curso_data_science\\3 Analisis y procesamiento de datos\\Analisis_Exploratorio_de_Datos>if errorlevel 1 (echo \"Didn't find any windows 10 SDK. I'm not sure if things will work, but let's try...\" )  else (echo Windows SDK version found as: \"10.0.18362.0\" ) \n",
      "Windows SDK version found as: \"10.0.18362.0\"\n",
      "\n",
      "D:\\Learning\\Python\\curso_data_science\\3 Analisis y procesamiento de datos\\Analisis_Exploratorio_de_Datos>IF \"win-64\" == \"win-64\" (\n",
      "set \"CMAKE_GEN=Visual Studio 15 2017 Win64\"  \n",
      " set \"BITS=64\" \n",
      ")  else (\n",
      "set \"CMAKE_GEN=Visual Studio 15 2017\"  \n",
      " set \"BITS=32\" \n",
      ") \n",
      "\n",
      "D:\\Learning\\Python\\curso_data_science\\3 Analisis y procesamiento de datos\\Analisis_Exploratorio_de_Datos>pushd C:\\Program Files (x86)\\Microsoft Visual Studio\\2017\\Enterprise\\ \n",
      "\n",
      "D:\\Learning\\Python\\curso_data_science\\3 Analisis y procesamiento de datos\\Analisis_Exploratorio_de_Datos>CALL \"VC\\Auxiliary\\Build\\vcvars64.bat\" -vcvars_ver=14.16 10.0.18362.0 \n",
      "\n",
      "D:\\Learning\\Python\\curso_data_science\\3 Analisis y procesamiento de datos\\Analisis_Exploratorio_de_Datos>popd\n",
      "\n",
      "D:\\Learning\\Python\\curso_data_science\\3 Analisis y procesamiento de datos\\Analisis_Exploratorio_de_Datos>IF \"Visual Studio 15 2017 Win64\" == \"\" SET \"CMAKE_GENERATOR=Visual Studio 15 2017 Win64\" \n",
      "\n",
      "D:\\Learning\\Python\\curso_data_science\\3 Analisis y procesamiento de datos\\Analisis_Exploratorio_de_Datos>call :GetWin10SdkDirHelper HKLM\\SOFTWARE\\Wow6432Node  1>nul 2>&1 \n",
      "\n",
      "D:\\Learning\\Python\\curso_data_science\\3 Analisis y procesamiento de datos\\Analisis_Exploratorio_de_Datos>if errorlevel 1 call :GetWin10SdkDirHelper HKCU\\SOFTWARE\\Wow6432Node  1>nul 2>&1 \n",
      "\n",
      "D:\\Learning\\Python\\curso_data_science\\3 Analisis y procesamiento de datos\\Analisis_Exploratorio_de_Datos>if errorlevel 1 call :GetWin10SdkDirHelper HKLM\\SOFTWARE  1>nul 2>&1 \n",
      "\n",
      "D:\\Learning\\Python\\curso_data_science\\3 Analisis y procesamiento de datos\\Analisis_Exploratorio_de_Datos>if errorlevel 1 call :GetWin10SdkDirHelper HKCU\\SOFTWARE  1>nul 2>&1 \n",
      "\n",
      "D:\\Learning\\Python\\curso_data_science\\3 Analisis y procesamiento de datos\\Analisis_Exploratorio_de_Datos>if errorlevel 1 exit /B 1 \n",
      "\n",
      "D:\\Learning\\Python\\curso_data_science\\3 Analisis y procesamiento de datos\\Analisis_Exploratorio_de_Datos>exit /B 0 \n"
     ]
    },
    {
     "name": "stderr",
     "output_type": "stream",
     "text": [
      "The system cannot find the path specified.\n",
      "The system cannot find the path specified.\n"
     ]
    }
   ],
   "source": [
    "!conda install -y missingno"
   ]
  },
  {
   "cell_type": "code",
   "execution_count": 21,
   "metadata": {},
   "outputs": [
    {
     "data": {
      "image/png": "[encoded data removed]",
      "text/plain": [
       "<matplotlib.figure.Figure at 0x7fb888abe940>"
      ]
     },
     "metadata": {},
     "output_type": "display_data"
    }
   ],
   "source": [
    "import missingno as msno\n",
    "\n",
    "msno.matrix(vehiculos)"
   ]
  },
  {
   "cell_type": "code",
   "execution_count": 6,
   "metadata": {},
   "outputs": [
    {
     "ename": "NameError",
     "evalue": "name 'msno' is not defined",
     "output_type": "error",
     "traceback": [
      "\u001b[1;31m---------------------------------------------------------------------------\u001b[0m",
      "\u001b[1;31mNameError\u001b[0m                                 Traceback (most recent call last)",
      "\u001b[1;32m<ipython-input-6-feb74e20d0c6>\u001b[0m in \u001b[0;36m<module>\u001b[1;34m\u001b[0m\n\u001b[1;32m----> 1\u001b[1;33m \u001b[0mmsno\u001b[0m\u001b[1;33m.\u001b[0m\u001b[0mheatmap\u001b[0m\u001b[1;33m(\u001b[0m\u001b[0mvehiculos\u001b[0m\u001b[1;33m)\u001b[0m\u001b[1;33m\u001b[0m\u001b[1;33m\u001b[0m\u001b[0m\n\u001b[0m",
      "\u001b[1;31mNameError\u001b[0m: name 'msno' is not defined"
     ]
    }
   ],
   "source": [
    "msno.heatmap(vehiculos)"
   ]
  },
  {
   "cell_type": "code",
   "execution_count": null,
   "metadata": {
    "collapsed": true
   },
   "outputs": [],
   "source": []
  }
 ],
 "metadata": {
  "kernelspec": {
   "display_name": "Python 3",
   "language": "python",
   "name": "python3"
  },
  "language_info": {
   "codemirror_mode": {
    "name": "ipython",
    "version": 3
   },
   "file_extension": ".py",
   "mimetype": "text/x-python",
   "name": "python",
   "nbconvert_exporter": "python",
   "pygments_lexer": "ipython3",
   "version": "3.7.6"
  }
 },
 "nbformat": 4,
 "nbformat_minor": 2
}
