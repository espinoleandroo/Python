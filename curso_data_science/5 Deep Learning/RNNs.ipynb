{
 "cells": [
  {
   "cell_type": "code",
   "execution_count": 1,
   "metadata": {},
   "outputs": [],
   "source": [
    "import pandas as pd\n",
    "\n",
    "pasajeros = pd.read_csv('../_data/international-airline-passengers.csv', sep=\";\")\n",
    "\n",
    "pasajeros.columns = [\"mes\", \"pasajeros\"]"
   ]
  },
  {
   "cell_type": "code",
   "execution_count": 2,
   "metadata": {},
   "outputs": [
    {
     "data": {
      "text/html": [
       "<div>\n",
       "<style scoped>\n",
       "    .dataframe tbody tr th:only-of-type {\n",
       "        vertical-align: middle;\n",
       "    }\n",
       "\n",
       "    .dataframe tbody tr th {\n",
       "        vertical-align: top;\n",
       "    }\n",
       "\n",
       "    .dataframe thead th {\n",
       "        text-align: right;\n",
       "    }\n",
       "</style>\n",
       "<table border=\"1\" class=\"dataframe\">\n",
       "  <thead>\n",
       "    <tr style=\"text-align: right;\">\n",
       "      <th></th>\n",
       "      <th>mes</th>\n",
       "      <th>pasajeros</th>\n",
       "    </tr>\n",
       "  </thead>\n",
       "  <tbody>\n",
       "    <tr>\n",
       "      <th>0</th>\n",
       "      <td>1949-01</td>\n",
       "      <td>112</td>\n",
       "    </tr>\n",
       "    <tr>\n",
       "      <th>1</th>\n",
       "      <td>1949-02</td>\n",
       "      <td>118</td>\n",
       "    </tr>\n",
       "    <tr>\n",
       "      <th>2</th>\n",
       "      <td>1949-03</td>\n",
       "      <td>132</td>\n",
       "    </tr>\n",
       "    <tr>\n",
       "      <th>3</th>\n",
       "      <td>1949-04</td>\n",
       "      <td>129</td>\n",
       "    </tr>\n",
       "    <tr>\n",
       "      <th>4</th>\n",
       "      <td>1949-05</td>\n",
       "      <td>121</td>\n",
       "    </tr>\n",
       "  </tbody>\n",
       "</table>\n",
       "</div>"
      ],
      "text/plain": [
       "       mes  pasajeros\n",
       "0  1949-01        112\n",
       "1  1949-02        118\n",
       "2  1949-03        132\n",
       "3  1949-04        129\n",
       "4  1949-05        121"
      ]
     },
     "execution_count": 2,
     "metadata": {},
     "output_type": "execute_result"
    }
   ],
   "source": [
    "pasajeros.head()"
   ]
  },
  {
   "cell_type": "code",
   "execution_count": 3,
   "metadata": {},
   "outputs": [],
   "source": [
    "pasajeros[\"pasajeros_1\"] = pasajeros[\"pasajeros\"].shift(-1)"
   ]
  },
  {
   "cell_type": "code",
   "execution_count": 4,
   "metadata": {},
   "outputs": [
    {
     "data": {
      "text/html": [
       "<div>\n",
       "<style scoped>\n",
       "    .dataframe tbody tr th:only-of-type {\n",
       "        vertical-align: middle;\n",
       "    }\n",
       "\n",
       "    .dataframe tbody tr th {\n",
       "        vertical-align: top;\n",
       "    }\n",
       "\n",
       "    .dataframe thead th {\n",
       "        text-align: right;\n",
       "    }\n",
       "</style>\n",
       "<table border=\"1\" class=\"dataframe\">\n",
       "  <thead>\n",
       "    <tr style=\"text-align: right;\">\n",
       "      <th></th>\n",
       "      <th>mes</th>\n",
       "      <th>pasajeros</th>\n",
       "      <th>pasajeros_1</th>\n",
       "    </tr>\n",
       "  </thead>\n",
       "  <tbody>\n",
       "    <tr>\n",
       "      <th>139</th>\n",
       "      <td>1960-08</td>\n",
       "      <td>606</td>\n",
       "      <td>508.0</td>\n",
       "    </tr>\n",
       "    <tr>\n",
       "      <th>140</th>\n",
       "      <td>1960-09</td>\n",
       "      <td>508</td>\n",
       "      <td>461.0</td>\n",
       "    </tr>\n",
       "    <tr>\n",
       "      <th>141</th>\n",
       "      <td>1960-10</td>\n",
       "      <td>461</td>\n",
       "      <td>390.0</td>\n",
       "    </tr>\n",
       "    <tr>\n",
       "      <th>142</th>\n",
       "      <td>1960-11</td>\n",
       "      <td>390</td>\n",
       "      <td>432.0</td>\n",
       "    </tr>\n",
       "    <tr>\n",
       "      <th>143</th>\n",
       "      <td>1960-12</td>\n",
       "      <td>432</td>\n",
       "      <td>NaN</td>\n",
       "    </tr>\n",
       "  </tbody>\n",
       "</table>\n",
       "</div>"
      ],
      "text/plain": [
       "         mes  pasajeros  pasajeros_1\n",
       "139  1960-08        606        508.0\n",
       "140  1960-09        508        461.0\n",
       "141  1960-10        461        390.0\n",
       "142  1960-11        390        432.0\n",
       "143  1960-12        432          NaN"
      ]
     },
     "execution_count": 4,
     "metadata": {},
     "output_type": "execute_result"
    }
   ],
   "source": [
    "pasajeros.tail()"
   ]
  },
  {
   "cell_type": "code",
   "execution_count": 5,
   "metadata": {},
   "outputs": [],
   "source": [
    "pasajeros = pasajeros.drop(143)"
   ]
  },
  {
   "cell_type": "code",
   "execution_count": 6,
   "metadata": {},
   "outputs": [],
   "source": [
    "pasajeros_x = pasajeros[\"pasajeros\"].astype(float).values\n",
    "pasajeros_y = pasajeros[\"pasajeros_1\"].astype(float).values\n"
   ]
  },
  {
   "cell_type": "code",
   "execution_count": 7,
   "metadata": {},
   "outputs": [
    {
     "data": {
      "text/plain": [
       "114"
      ]
     },
     "execution_count": 7,
     "metadata": {},
     "output_type": "execute_result"
    }
   ],
   "source": [
    "n_periodos = len(pasajeros)\n",
    "pct_test = 0.2\n",
    "\n",
    "n_train = int(n_periodos * (1-pct_test))\n",
    "n_train"
   ]
  },
  {
   "cell_type": "code",
   "execution_count": 11,
   "metadata": {},
   "outputs": [],
   "source": [
    "from sklearn.preprocessing import StandardScaler\n",
    "\n",
    "scaler = StandardScaler()\n",
    "scaler.fit(pasajeros_x.reshape(-1,1))\n",
    "\n",
    "pasajeros_x_std = scaler.transform(pasajeros_x.reshape(-1,1))\n",
    "pasajeros_y_std = scaler.transform(pasajeros_y.reshape(-1,1))"
   ]
  },
  {
   "cell_type": "code",
   "execution_count": 13,
   "metadata": {},
   "outputs": [],
   "source": [
    "x_train = pasajeros_x_std[:n_train]\n",
    "x_test = pasajeros_x_std[n_train:]\n",
    "\n",
    "y_train = pasajeros_x_std[:n_train]\n",
    "y_test = pasajeros_x_std[n_train:]"
   ]
  },
  {
   "cell_type": "code",
   "execution_count": 14,
   "metadata": {},
   "outputs": [],
   "source": [
    "x_train = x_train.reshape(-1,1,1)\n",
    "x_test = x_test.reshape(-1,1,1)"
   ]
  },
  {
   "cell_type": "code",
   "execution_count": 15,
   "metadata": {},
   "outputs": [
    {
     "data": {
      "text/plain": [
       "(114, 1, 1)"
      ]
     },
     "execution_count": 15,
     "metadata": {},
     "output_type": "execute_result"
    }
   ],
   "source": [
    "x_train.shape"
   ]
  },
  {
   "cell_type": "code",
   "execution_count": 20,
   "metadata": {},
   "outputs": [],
   "source": [
    "from keras import Sequential\n",
    "from keras.layers import Dense, LSTM, GRU"
   ]
  },
  {
   "cell_type": "code",
   "execution_count": 21,
   "metadata": {},
   "outputs": [
    {
     "name": "stdout",
     "output_type": "stream",
     "text": [
      "Model: \"sequential\"\n",
      "_________________________________________________________________\n",
      " Layer (type)                Output Shape              Param #   \n",
      "=================================================================\n",
      " gru (GRU)                   (None, 10)                390       \n",
      "                                                                 \n",
      " dense (Dense)               (None, 1)                 11        \n",
      "                                                                 \n",
      "=================================================================\n",
      "Total params: 401 (1.57 KB)\n",
      "Trainable params: 401 (1.57 KB)\n",
      "Non-trainable params: 0 (0.00 Byte)\n",
      "_________________________________________________________________\n"
     ]
    }
   ],
   "source": [
    "modelo_lstm = Sequential()\n",
    "modelo_lstm.add(GRU(10, input_shape=(1,1)))\n",
    "modelo_lstm.add(Dense(1))\n",
    "modelo_lstm.summary()"
   ]
  },
  {
   "cell_type": "code",
   "execution_count": 22,
   "metadata": {},
   "outputs": [
    {
     "name": "stdout",
     "output_type": "stream",
     "text": [
      "Epoch 1/100\n",
      "114/114 [==============================] - 2s 2ms/step - loss: 0.6485 - mean_squared_error: 0.6485\n",
      "Epoch 2/100\n",
      "114/114 [==============================] - 0s 2ms/step - loss: 0.3187 - mean_squared_error: 0.3187\n",
      "Epoch 3/100\n",
      "114/114 [==============================] - 0s 2ms/step - loss: 0.1443 - mean_squared_error: 0.1443\n",
      "Epoch 4/100\n",
      "114/114 [==============================] - 0s 2ms/step - loss: 0.0513 - mean_squared_error: 0.0513\n",
      "Epoch 5/100\n",
      "114/114 [==============================] - 0s 2ms/step - loss: 0.0118 - mean_squared_error: 0.0118\n",
      "Epoch 6/100\n",
      "114/114 [==============================] - 0s 2ms/step - loss: 0.0022 - mean_squared_error: 0.0022\n",
      "Epoch 7/100\n",
      "114/114 [==============================] - 0s 2ms/step - loss: 7.0589e-04 - mean_squared_error: 7.0589e-04\n",
      "Epoch 8/100\n",
      "114/114 [==============================] - 0s 3ms/step - loss: 5.8396e-04 - mean_squared_error: 5.8396e-04\n",
      "Epoch 9/100\n",
      "114/114 [==============================] - 0s 3ms/step - loss: 5.8133e-04 - mean_squared_error: 5.8133e-04\n",
      "Epoch 10/100\n",
      "114/114 [==============================] - 0s 3ms/step - loss: 5.6854e-04 - mean_squared_error: 5.6854e-04\n",
      "Epoch 11/100\n",
      "114/114 [==============================] - 0s 3ms/step - loss: 6.0321e-04 - mean_squared_error: 6.0321e-04\n",
      "Epoch 12/100\n",
      "114/114 [==============================] - 0s 3ms/step - loss: 5.5600e-04 - mean_squared_error: 5.5600e-04\n",
      "Epoch 13/100\n",
      "114/114 [==============================] - 0s 4ms/step - loss: 5.5685e-04 - mean_squared_error: 5.5685e-04\n",
      "Epoch 14/100\n",
      "114/114 [==============================] - 0s 3ms/step - loss: 5.8660e-04 - mean_squared_error: 5.8660e-04\n",
      "Epoch 15/100\n",
      "114/114 [==============================] - 0s 3ms/step - loss: 5.4964e-04 - mean_squared_error: 5.4964e-04\n",
      "Epoch 16/100\n",
      "114/114 [==============================] - 0s 2ms/step - loss: 5.4849e-04 - mean_squared_error: 5.4849e-04\n",
      "Epoch 17/100\n",
      "114/114 [==============================] - 0s 2ms/step - loss: 5.4837e-04 - mean_squared_error: 5.4837e-04\n",
      "Epoch 18/100\n",
      "114/114 [==============================] - 0s 2ms/step - loss: 5.4776e-04 - mean_squared_error: 5.4776e-04\n",
      "Epoch 19/100\n",
      "114/114 [==============================] - 0s 3ms/step - loss: 5.2053e-04 - mean_squared_error: 5.2053e-04\n",
      "Epoch 20/100\n",
      "114/114 [==============================] - 0s 2ms/step - loss: 5.5585e-04 - mean_squared_error: 5.5585e-04\n",
      "Epoch 21/100\n",
      "114/114 [==============================] - 0s 3ms/step - loss: 5.3429e-04 - mean_squared_error: 5.3429e-04\n",
      "Epoch 22/100\n",
      "114/114 [==============================] - 0s 2ms/step - loss: 5.4991e-04 - mean_squared_error: 5.4991e-04\n",
      "Epoch 23/100\n",
      "114/114 [==============================] - 0s 2ms/step - loss: 4.9707e-04 - mean_squared_error: 4.9707e-04\n",
      "Epoch 24/100\n",
      "114/114 [==============================] - 0s 2ms/step - loss: 4.7993e-04 - mean_squared_error: 4.7993e-04\n",
      "Epoch 25/100\n",
      "114/114 [==============================] - 0s 2ms/step - loss: 5.3873e-04 - mean_squared_error: 5.3873e-04\n",
      "Epoch 26/100\n",
      "114/114 [==============================] - 0s 2ms/step - loss: 4.8846e-04 - mean_squared_error: 4.8846e-04\n",
      "Epoch 27/100\n",
      "114/114 [==============================] - 0s 2ms/step - loss: 5.6172e-04 - mean_squared_error: 5.6172e-04\n",
      "Epoch 28/100\n",
      "114/114 [==============================] - 0s 2ms/step - loss: 5.0976e-04 - mean_squared_error: 5.0976e-04\n",
      "Epoch 29/100\n",
      "114/114 [==============================] - 0s 2ms/step - loss: 5.2678e-04 - mean_squared_error: 5.2678e-04\n",
      "Epoch 30/100\n",
      "114/114 [==============================] - 0s 1ms/step - loss: 5.0744e-04 - mean_squared_error: 5.0744e-04\n",
      "Epoch 31/100\n",
      "114/114 [==============================] - 0s 1ms/step - loss: 4.8879e-04 - mean_squared_error: 4.8879e-04\n",
      "Epoch 32/100\n",
      "114/114 [==============================] - 0s 2ms/step - loss: 4.4059e-04 - mean_squared_error: 4.4059e-04\n",
      "Epoch 33/100\n",
      "114/114 [==============================] - 0s 1ms/step - loss: 4.9294e-04 - mean_squared_error: 4.9294e-04\n",
      "Epoch 34/100\n",
      "114/114 [==============================] - 0s 2ms/step - loss: 4.3919e-04 - mean_squared_error: 4.3919e-04\n",
      "Epoch 35/100\n",
      "114/114 [==============================] - 0s 2ms/step - loss: 4.6419e-04 - mean_squared_error: 4.6419e-04\n",
      "Epoch 36/100\n",
      "114/114 [==============================] - 0s 2ms/step - loss: 4.2636e-04 - mean_squared_error: 4.2636e-04\n",
      "Epoch 37/100\n",
      "114/114 [==============================] - 0s 2ms/step - loss: 4.4024e-04 - mean_squared_error: 4.4024e-04\n",
      "Epoch 38/100\n",
      "114/114 [==============================] - 0s 2ms/step - loss: 4.0205e-04 - mean_squared_error: 4.0205e-04\n",
      "Epoch 39/100\n",
      "114/114 [==============================] - 0s 2ms/step - loss: 4.7716e-04 - mean_squared_error: 4.7716e-04\n",
      "Epoch 40/100\n",
      "114/114 [==============================] - 0s 2ms/step - loss: 4.4761e-04 - mean_squared_error: 4.4761e-04\n",
      "Epoch 41/100\n",
      "114/114 [==============================] - 0s 2ms/step - loss: 4.3677e-04 - mean_squared_error: 4.3677e-04\n",
      "Epoch 42/100\n",
      "114/114 [==============================] - 0s 1ms/step - loss: 4.2700e-04 - mean_squared_error: 4.2700e-04\n",
      "Epoch 43/100\n",
      "114/114 [==============================] - 0s 1ms/step - loss: 3.9705e-04 - mean_squared_error: 3.9705e-04\n",
      "Epoch 44/100\n",
      "114/114 [==============================] - 0s 1ms/step - loss: 3.8528e-04 - mean_squared_error: 3.8528e-04\n",
      "Epoch 45/100\n",
      "114/114 [==============================] - 0s 1ms/step - loss: 4.1157e-04 - mean_squared_error: 4.1157e-04\n",
      "Epoch 46/100\n",
      "114/114 [==============================] - 0s 1ms/step - loss: 4.2703e-04 - mean_squared_error: 4.2703e-04\n",
      "Epoch 47/100\n",
      "114/114 [==============================] - 0s 1ms/step - loss: 3.8577e-04 - mean_squared_error: 3.8577e-04\n",
      "Epoch 48/100\n",
      "114/114 [==============================] - 0s 2ms/step - loss: 3.9302e-04 - mean_squared_error: 3.9302e-04\n",
      "Epoch 49/100\n",
      "114/114 [==============================] - 0s 1ms/step - loss: 4.1202e-04 - mean_squared_error: 4.1202e-04\n",
      "Epoch 50/100\n",
      "114/114 [==============================] - 0s 1ms/step - loss: 4.1083e-04 - mean_squared_error: 4.1083e-04\n",
      "Epoch 51/100\n",
      "114/114 [==============================] - 0s 1ms/step - loss: 3.7727e-04 - mean_squared_error: 3.7727e-04\n",
      "Epoch 52/100\n",
      "114/114 [==============================] - 0s 1ms/step - loss: 3.4826e-04 - mean_squared_error: 3.4826e-04\n",
      "Epoch 53/100\n",
      "114/114 [==============================] - 0s 1ms/step - loss: 4.2449e-04 - mean_squared_error: 4.2449e-04\n",
      "Epoch 54/100\n",
      "114/114 [==============================] - 0s 1ms/step - loss: 3.6326e-04 - mean_squared_error: 3.6326e-04\n",
      "Epoch 55/100\n",
      "114/114 [==============================] - 0s 1ms/step - loss: 3.1636e-04 - mean_squared_error: 3.1636e-04\n",
      "Epoch 56/100\n",
      "114/114 [==============================] - 0s 1ms/step - loss: 3.6368e-04 - mean_squared_error: 3.6368e-04\n",
      "Epoch 57/100\n",
      "114/114 [==============================] - 0s 1ms/step - loss: 3.1899e-04 - mean_squared_error: 3.1899e-04\n",
      "Epoch 58/100\n",
      "114/114 [==============================] - 0s 1ms/step - loss: 4.0237e-04 - mean_squared_error: 4.0237e-04\n",
      "Epoch 59/100\n",
      "114/114 [==============================] - 0s 1ms/step - loss: 3.2025e-04 - mean_squared_error: 3.2025e-04\n",
      "Epoch 60/100\n",
      "114/114 [==============================] - 0s 1ms/step - loss: 3.2221e-04 - mean_squared_error: 3.2221e-04\n",
      "Epoch 61/100\n",
      "114/114 [==============================] - 0s 1ms/step - loss: 2.5806e-04 - mean_squared_error: 2.5806e-04\n",
      "Epoch 62/100\n",
      "114/114 [==============================] - 0s 1ms/step - loss: 3.4875e-04 - mean_squared_error: 3.4875e-04\n",
      "Epoch 63/100\n",
      "114/114 [==============================] - 0s 1ms/step - loss: 3.5877e-04 - mean_squared_error: 3.5877e-04\n",
      "Epoch 64/100\n",
      "114/114 [==============================] - 0s 1ms/step - loss: 3.1857e-04 - mean_squared_error: 3.1857e-04\n",
      "Epoch 65/100\n",
      "114/114 [==============================] - 0s 1ms/step - loss: 2.9021e-04 - mean_squared_error: 2.9021e-04\n",
      "Epoch 66/100\n",
      "114/114 [==============================] - 0s 1ms/step - loss: 3.0584e-04 - mean_squared_error: 3.0584e-04\n",
      "Epoch 67/100\n",
      "114/114 [==============================] - 0s 1ms/step - loss: 2.5654e-04 - mean_squared_error: 2.5654e-04\n",
      "Epoch 68/100\n",
      "114/114 [==============================] - 0s 1ms/step - loss: 2.2097e-04 - mean_squared_error: 2.2097e-04\n",
      "Epoch 69/100\n",
      "114/114 [==============================] - 0s 1ms/step - loss: 2.3598e-04 - mean_squared_error: 2.3598e-04\n",
      "Epoch 70/100\n",
      "114/114 [==============================] - 0s 1ms/step - loss: 3.9753e-04 - mean_squared_error: 3.9753e-04\n",
      "Epoch 71/100\n",
      "114/114 [==============================] - 0s 1ms/step - loss: 2.8579e-04 - mean_squared_error: 2.8579e-04\n",
      "Epoch 72/100\n",
      "114/114 [==============================] - 0s 1ms/step - loss: 2.4167e-04 - mean_squared_error: 2.4167e-04\n",
      "Epoch 73/100\n",
      "114/114 [==============================] - 0s 1ms/step - loss: 2.3796e-04 - mean_squared_error: 2.3796e-04\n",
      "Epoch 74/100\n",
      "114/114 [==============================] - 0s 1ms/step - loss: 2.4459e-04 - mean_squared_error: 2.4459e-04\n",
      "Epoch 75/100\n",
      "114/114 [==============================] - 0s 1ms/step - loss: 2.5431e-04 - mean_squared_error: 2.5431e-04\n",
      "Epoch 76/100\n",
      "114/114 [==============================] - 0s 1ms/step - loss: 2.9718e-04 - mean_squared_error: 2.9718e-04\n",
      "Epoch 77/100\n",
      "114/114 [==============================] - 0s 1ms/step - loss: 2.3655e-04 - mean_squared_error: 2.3655e-04\n",
      "Epoch 78/100\n",
      "114/114 [==============================] - 0s 1ms/step - loss: 2.9884e-04 - mean_squared_error: 2.9884e-04\n",
      "Epoch 79/100\n",
      "114/114 [==============================] - 0s 1ms/step - loss: 2.3446e-04 - mean_squared_error: 2.3446e-04\n",
      "Epoch 80/100\n",
      "114/114 [==============================] - 0s 1ms/step - loss: 2.3459e-04 - mean_squared_error: 2.3459e-04\n",
      "Epoch 81/100\n",
      "114/114 [==============================] - 0s 1ms/step - loss: 2.1797e-04 - mean_squared_error: 2.1797e-04\n",
      "Epoch 82/100\n",
      "114/114 [==============================] - 0s 1ms/step - loss: 1.6400e-04 - mean_squared_error: 1.6400e-04\n",
      "Epoch 83/100\n",
      "114/114 [==============================] - 0s 1ms/step - loss: 2.8518e-04 - mean_squared_error: 2.8518e-04\n",
      "Epoch 84/100\n",
      "114/114 [==============================] - 0s 1ms/step - loss: 1.9582e-04 - mean_squared_error: 1.9582e-04\n",
      "Epoch 85/100\n",
      "114/114 [==============================] - 0s 1ms/step - loss: 2.4216e-04 - mean_squared_error: 2.4216e-04\n",
      "Epoch 86/100\n",
      "114/114 [==============================] - 0s 2ms/step - loss: 2.5182e-04 - mean_squared_error: 2.5182e-04\n",
      "Epoch 87/100\n",
      "114/114 [==============================] - 0s 1ms/step - loss: 2.2593e-04 - mean_squared_error: 2.2593e-04\n",
      "Epoch 88/100\n",
      "114/114 [==============================] - 0s 1ms/step - loss: 2.1027e-04 - mean_squared_error: 2.1027e-04\n",
      "Epoch 89/100\n",
      "114/114 [==============================] - 0s 1ms/step - loss: 1.8734e-04 - mean_squared_error: 1.8734e-04\n",
      "Epoch 90/100\n",
      "114/114 [==============================] - 0s 2ms/step - loss: 2.0920e-04 - mean_squared_error: 2.0920e-04\n",
      "Epoch 91/100\n",
      "114/114 [==============================] - 0s 2ms/step - loss: 2.1898e-04 - mean_squared_error: 2.1898e-04\n",
      "Epoch 92/100\n",
      "114/114 [==============================] - 0s 2ms/step - loss: 1.4877e-04 - mean_squared_error: 1.4877e-04\n",
      "Epoch 93/100\n",
      "114/114 [==============================] - 0s 2ms/step - loss: 2.0815e-04 - mean_squared_error: 2.0815e-04\n",
      "Epoch 94/100\n",
      "114/114 [==============================] - 0s 1ms/step - loss: 1.9389e-04 - mean_squared_error: 1.9389e-04\n",
      "Epoch 95/100\n",
      "114/114 [==============================] - 0s 1ms/step - loss: 1.7168e-04 - mean_squared_error: 1.7168e-04\n",
      "Epoch 96/100\n",
      "114/114 [==============================] - 0s 1ms/step - loss: 1.7587e-04 - mean_squared_error: 1.7587e-04\n",
      "Epoch 97/100\n",
      "114/114 [==============================] - 0s 2ms/step - loss: 2.0887e-04 - mean_squared_error: 2.0887e-04\n",
      "Epoch 98/100\n",
      "114/114 [==============================] - 0s 2ms/step - loss: 1.4443e-04 - mean_squared_error: 1.4443e-04\n",
      "Epoch 99/100\n",
      "114/114 [==============================] - 0s 2ms/step - loss: 1.7688e-04 - mean_squared_error: 1.7688e-04\n",
      "Epoch 100/100\n",
      "114/114 [==============================] - 0s 2ms/step - loss: 1.3446e-04 - mean_squared_error: 1.3446e-04\n"
     ]
    },
    {
     "data": {
      "text/plain": [
       "<keras.src.callbacks.History at 0x2134172ae20>"
      ]
     },
     "execution_count": 22,
     "metadata": {},
     "output_type": "execute_result"
    }
   ],
   "source": [
    "modelo_lstm.compile(loss='mean_squared_error', optimizer='adam', metrics=['mean_squared_error'])\n",
    "modelo_lstm.fit(x_train, y_train, epochs=100, batch_size=1, verbose=1)"
   ]
  },
  {
   "cell_type": "code",
   "execution_count": 23,
   "metadata": {},
   "outputs": [
    {
     "name": "stdout",
     "output_type": "stream",
     "text": [
      "4/4 [==============================] - 0s 2ms/step\n"
     ]
    },
    {
     "data": {
      "text/plain": [
       "1.1685748898791601"
      ]
     },
     "execution_count": 23,
     "metadata": {},
     "output_type": "execute_result"
    }
   ],
   "source": [
    "from sklearn.metrics import mean_squared_error\n",
    "import numpy as np\n",
    "\n",
    "train_pred = scaler.inverse_transform(modelo_lstm.predict(x_train))\n",
    "y_train_original = scaler.inverse_transform(y_train)\n",
    "error_train = np.sqrt(mean_squared_error(y_train_original, train_pred))\n",
    "\n",
    "error_train"
   ]
  },
  {
   "cell_type": "code",
   "execution_count": 24,
   "metadata": {},
   "outputs": [
    {
     "name": "stdout",
     "output_type": "stream",
     "text": [
      "1/1 [==============================] - 0s 20ms/step\n"
     ]
    },
    {
     "data": {
      "text/plain": [
       "14.004508239190717"
      ]
     },
     "execution_count": 24,
     "metadata": {},
     "output_type": "execute_result"
    }
   ],
   "source": [
    "from sklearn.metrics import mean_squared_error\n",
    "\n",
    "test_pred = scaler.inverse_transform(modelo_lstm.predict(x_test))\n",
    "y_test_original = scaler.inverse_transform(y_test)\n",
    "error_test = np.sqrt(mean_squared_error(y_test_original, test_pred))\n",
    "\n",
    "error_test"
   ]
  },
  {
   "cell_type": "code",
   "execution_count": 25,
   "metadata": {},
   "outputs": [],
   "source": [
    "test_pred_plot = np.zeros(pasajeros_y.shape)\n",
    "test_pred_plot[-test_pred.shape[0]:] = test_pred[:,0]\n",
    "\n",
    "test_pred_plot[:-test_pred.shape[0]] = np.nan"
   ]
  },
  {
   "cell_type": "code",
   "execution_count": 26,
   "metadata": {},
   "outputs": [
    {
     "data": {
      "image/png": "[encoded data removed]",
      "text/plain": [
       "<Figure size 640x480 with 1 Axes>"
      ]
     },
     "metadata": {},
     "output_type": "display_data"
    }
   ],
   "source": [
    "from matplotlib import pyplot as plt\n",
    "plt.plot(pasajeros_y)\n",
    "plt.plot(train_pred, label=\"prediccion train\")\n",
    "plt.plot(test_pred_plot, label=\"prediccion test\")\n",
    "plt.title(\"Numero de pasajeros internacionales\")\n",
    "plt.legend();"
   ]
  },
  {
   "cell_type": "code",
   "execution_count": null,
   "metadata": {},
   "outputs": [],
   "source": []
  }
 ],
 "metadata": {
  "kernelspec": {
   "display_name": "Python 3",
   "language": "python",
   "name": "python3"
  },
  "language_info": {
   "codemirror_mode": {
    "name": "ipython",
    "version": 3
   },
   "file_extension": ".py",
   "mimetype": "text/x-python",
   "name": "python",
   "nbconvert_exporter": "python",
   "pygments_lexer": "ipython3",
   "version": "3.9.13"
  }
 },
 "nbformat": 4,
 "nbformat_minor": 4
}
